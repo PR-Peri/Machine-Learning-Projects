{
  "nbformat": 4,
  "nbformat_minor": 0,
  "metadata": {
    "colab": {
      "name": "Q2_AppleSupport.ipynb",
      "provenance": []
    },
    "kernelspec": {
      "name": "python3",
      "display_name": "Python 3"
    }
  },
  "cells": [
    {
      "cell_type": "code",
      "metadata": {
        "colab": {
          "base_uri": "https://localhost:8080/"
        },
        "id": "C8_Sje6SKqfL",
        "outputId": "e7437e83-8958-41da-b718-901015741ce7"
      },
      "source": [
        "import tweepy\r\n",
        "from tweepy import Stream\r\n",
        "from tweepy import OAuthHandler\r\n",
        "import datetime\r\n",
        "import time\r\n",
        "import json\r\n",
        "from google.colab import files\r\n",
        "from tweepy import Cursor\r\n",
        "!pip install xlsxwriter  \r\n",
        "!pip3 install twint \r\n",
        "import xlsxwriter\r\n",
        "import pandas as pd\r\n",
        "import csv\r\n",
        "import datetime\r\n",
        "from tweepy.streaming import StreamListener"
      ],
      "execution_count": 5,
      "outputs": [
        {
          "output_type": "stream",
          "text": [
            "Requirement already satisfied: xlsxwriter in /usr/local/lib/python3.7/dist-packages (1.3.7)\n",
            "Requirement already satisfied: twint in /usr/local/lib/python3.7/dist-packages (2.1.20)\n",
            "Requirement already satisfied: pandas in /usr/local/lib/python3.7/dist-packages (from twint) (1.1.5)\n",
            "Requirement already satisfied: beautifulsoup4 in /usr/local/lib/python3.7/dist-packages (from twint) (4.6.3)\n",
            "Requirement already satisfied: aiohttp in /usr/local/lib/python3.7/dist-packages (from twint) (3.7.4.post0)\n",
            "Requirement already satisfied: googletransx in /usr/local/lib/python3.7/dist-packages (from twint) (2.4.2)\n",
            "Requirement already satisfied: aiodns in /usr/local/lib/python3.7/dist-packages (from twint) (2.0.0)\n",
            "Requirement already satisfied: geopy in /usr/local/lib/python3.7/dist-packages (from twint) (1.17.0)\n",
            "Requirement already satisfied: fake-useragent in /usr/local/lib/python3.7/dist-packages (from twint) (0.1.11)\n",
            "Requirement already satisfied: aiohttp-socks in /usr/local/lib/python3.7/dist-packages (from twint) (0.6.0)\n",
            "Requirement already satisfied: schedule in /usr/local/lib/python3.7/dist-packages (from twint) (1.0.0)\n",
            "Requirement already satisfied: pysocks in /usr/local/lib/python3.7/dist-packages (from twint) (1.7.1)\n",
            "Requirement already satisfied: cchardet in /usr/local/lib/python3.7/dist-packages (from twint) (2.1.7)\n",
            "Requirement already satisfied: elasticsearch in /usr/local/lib/python3.7/dist-packages (from twint) (7.11.0)\n",
            "Requirement already satisfied: numpy>=1.15.4 in /usr/local/lib/python3.7/dist-packages (from pandas->twint) (1.19.5)\n",
            "Requirement already satisfied: python-dateutil>=2.7.3 in /usr/local/lib/python3.7/dist-packages (from pandas->twint) (2.8.1)\n",
            "Requirement already satisfied: pytz>=2017.2 in /usr/local/lib/python3.7/dist-packages (from pandas->twint) (2018.9)\n",
            "Requirement already satisfied: multidict<7.0,>=4.5 in /usr/local/lib/python3.7/dist-packages (from aiohttp->twint) (5.1.0)\n",
            "Requirement already satisfied: chardet<5.0,>=2.0 in /usr/local/lib/python3.7/dist-packages (from aiohttp->twint) (3.0.4)\n",
            "Requirement already satisfied: typing-extensions>=3.6.5 in /usr/local/lib/python3.7/dist-packages (from aiohttp->twint) (3.7.4.3)\n",
            "Requirement already satisfied: yarl<2.0,>=1.0 in /usr/local/lib/python3.7/dist-packages (from aiohttp->twint) (1.6.3)\n",
            "Requirement already satisfied: async-timeout<4.0,>=3.0 in /usr/local/lib/python3.7/dist-packages (from aiohttp->twint) (3.0.1)\n",
            "Requirement already satisfied: attrs>=17.3.0 in /usr/local/lib/python3.7/dist-packages (from aiohttp->twint) (20.3.0)\n",
            "Requirement already satisfied: requests in /usr/local/lib/python3.7/dist-packages (from googletransx->twint) (2.23.0)\n",
            "Requirement already satisfied: pycares>=3.0.0 in /usr/local/lib/python3.7/dist-packages (from aiodns->twint) (3.1.1)\n",
            "Requirement already satisfied: geographiclib<2,>=1.49 in /usr/local/lib/python3.7/dist-packages (from geopy->twint) (1.50)\n",
            "Requirement already satisfied: python-socks[asyncio]>=1.2.2 in /usr/local/lib/python3.7/dist-packages (from aiohttp-socks->twint) (1.2.2)\n",
            "Requirement already satisfied: certifi in /usr/local/lib/python3.7/dist-packages (from elasticsearch->twint) (2020.12.5)\n",
            "Requirement already satisfied: urllib3<2,>=1.21.1 in /usr/local/lib/python3.7/dist-packages (from elasticsearch->twint) (1.24.3)\n",
            "Requirement already satisfied: six>=1.5 in /usr/local/lib/python3.7/dist-packages (from python-dateutil>=2.7.3->pandas->twint) (1.15.0)\n",
            "Requirement already satisfied: idna>=2.0 in /usr/local/lib/python3.7/dist-packages (from yarl<2.0,>=1.0->aiohttp->twint) (2.10)\n",
            "Requirement already satisfied: cffi>=1.5.0 in /usr/local/lib/python3.7/dist-packages (from pycares>=3.0.0->aiodns->twint) (1.14.5)\n",
            "Requirement already satisfied: pycparser in /usr/local/lib/python3.7/dist-packages (from cffi>=1.5.0->pycares>=3.0.0->aiodns->twint) (2.20)\n"
          ],
          "name": "stdout"
        }
      ]
    },
    {
      "cell_type": "code",
      "metadata": {
        "id": "Fx5TqVyAKuog"
      },
      "source": [
        "# load/read from file using JSON\r\n",
        "secrets = json.loads(open(\"secrets_Apple.json\",\"r\").read())\r\n",
        "\r\n",
        "api_key = secrets['CONSUMER_KEY']\r\n",
        "api_key_secret = secrets['CONSUMER_SECRET']\r\n",
        "access_key = secrets['ACCESS_TOKEN_KEY']\r\n",
        "access_key_secret = secrets['ACCESS_TOKEN_SECRET']\r\n",
        "\r\n",
        "\r\n",
        "auth = OAuthHandler(api_key, api_key_secret)\r\n",
        "auth.set_access_token(access_key, access_key_secret)\r\n",
        "api = tweepy.API(auth, wait_on_rate_limit=True,wait_on_rate_limit_notify=True)\r\n",
        "\r\n",
        "#change per brand\r\n",
        "screen_name = \"AppleSupport\""
      ],
      "execution_count": 6,
      "outputs": []
    },
    {
      "cell_type": "code",
      "metadata": {
        "id": "77unVw-rK8Ti"
      },
      "source": [
        "def getAudienceProfile():\r\n",
        "  \r\n",
        "  with open(\"AppleProfile.json\", 'w') as f:\r\n",
        "    result = api.get_user(\"AppleSupport\")\r\n",
        "    f.write(json.dumps(result._json, indent=3))\r\n",
        "\r\n",
        "getAudienceProfile()"
      ],
      "execution_count": 3,
      "outputs": []
    },
    {
      "cell_type": "code",
      "metadata": {
        "colab": {
          "base_uri": "https://localhost:8080/",
          "height": 1000
        },
        "id": "IeVveohfLAy1",
        "outputId": "8b8b9b30-8045-445a-cc9d-a297fc1fd360"
      },
      "source": [
        "def getFollowers():\r\n",
        "  counter = 1\r\n",
        "  with open(\"followers_AppleSupport.json\",\"w\") as fw:\r\n",
        "    for pages in Cursor(api.followers, screen_name=\"AppleSupport\", count =1000).pages(500):\r\n",
        "      print(\"Retrieving 1k follower \")\r\n",
        "      time.sleep(2)\r\n",
        "      for follower in pages:\r\n",
        "        fw.write(json.dumps(follower._json) + \"\\n\")\r\n",
        "\r\n",
        "\r\n",
        "getFollowers()"
      ],
      "execution_count": 8,
      "outputs": [
        {
          "output_type": "stream",
          "text": [
            "Retrieving 1k follower \n",
            "Retrieving 1k follower \n",
            "Retrieving 1k follower \n",
            "Retrieving 1k follower \n",
            "Retrieving 1k follower \n",
            "Retrieving 1k follower \n",
            "Retrieving 1k follower \n",
            "Retrieving 1k follower \n",
            "Retrieving 1k follower \n",
            "Retrieving 1k follower \n",
            "Retrieving 1k follower \n",
            "Retrieving 1k follower \n",
            "Retrieving 1k follower \n",
            "Retrieving 1k follower \n",
            "Retrieving 1k follower \n"
          ],
          "name": "stdout"
        },
        {
          "output_type": "stream",
          "text": [
            "Rate limit reached. Sleeping for: 859\n"
          ],
          "name": "stderr"
        },
        {
          "output_type": "stream",
          "text": [
            "Retrieving 1k follower \n",
            "Retrieving 1k follower \n",
            "Retrieving 1k follower \n",
            "Retrieving 1k follower \n",
            "Retrieving 1k follower \n",
            "Retrieving 1k follower \n",
            "Retrieving 1k follower \n",
            "Retrieving 1k follower \n",
            "Retrieving 1k follower \n",
            "Retrieving 1k follower \n",
            "Retrieving 1k follower \n",
            "Retrieving 1k follower \n",
            "Retrieving 1k follower \n",
            "Retrieving 1k follower \n",
            "Retrieving 1k follower \n"
          ],
          "name": "stdout"
        },
        {
          "output_type": "stream",
          "text": [
            "Rate limit reached. Sleeping for: 859\n"
          ],
          "name": "stderr"
        },
        {
          "output_type": "stream",
          "text": [
            "Retrieving 1k follower \n",
            "Retrieving 1k follower \n",
            "Retrieving 1k follower \n",
            "Retrieving 1k follower \n",
            "Retrieving 1k follower \n",
            "Retrieving 1k follower \n",
            "Retrieving 1k follower \n",
            "Retrieving 1k follower \n",
            "Retrieving 1k follower \n",
            "Retrieving 1k follower \n",
            "Retrieving 1k follower \n",
            "Retrieving 1k follower \n",
            "Retrieving 1k follower \n",
            "Retrieving 1k follower \n",
            "Retrieving 1k follower \n"
          ],
          "name": "stdout"
        },
        {
          "output_type": "stream",
          "text": [
            "Rate limit reached. Sleeping for: 856\n"
          ],
          "name": "stderr"
        },
        {
          "output_type": "error",
          "ename": "KeyboardInterrupt",
          "evalue": "ignored",
          "traceback": [
            "\u001b[0;31m---------------------------------------------------------------------------\u001b[0m",
            "\u001b[0;31mKeyboardInterrupt\u001b[0m                         Traceback (most recent call last)",
            "\u001b[0;32m<ipython-input-8-a3c00d13dfbe>\u001b[0m in \u001b[0;36m<module>\u001b[0;34m()\u001b[0m\n\u001b[1;32m      9\u001b[0m \u001b[0;34m\u001b[0m\u001b[0m\n\u001b[1;32m     10\u001b[0m \u001b[0;34m\u001b[0m\u001b[0m\n\u001b[0;32m---> 11\u001b[0;31m \u001b[0mgetFollowers\u001b[0m\u001b[0;34m(\u001b[0m\u001b[0;34m)\u001b[0m\u001b[0;34m\u001b[0m\u001b[0;34m\u001b[0m\u001b[0m\n\u001b[0m",
            "\u001b[0;32m<ipython-input-8-a3c00d13dfbe>\u001b[0m in \u001b[0;36mgetFollowers\u001b[0;34m()\u001b[0m\n\u001b[1;32m      2\u001b[0m   \u001b[0mcounter\u001b[0m \u001b[0;34m=\u001b[0m \u001b[0;36m1\u001b[0m\u001b[0;34m\u001b[0m\u001b[0;34m\u001b[0m\u001b[0m\n\u001b[1;32m      3\u001b[0m   \u001b[0;32mwith\u001b[0m \u001b[0mopen\u001b[0m\u001b[0;34m(\u001b[0m\u001b[0;34m\"followers_AppleSupport.json\"\u001b[0m\u001b[0;34m,\u001b[0m\u001b[0;34m\"w\"\u001b[0m\u001b[0;34m)\u001b[0m \u001b[0;32mas\u001b[0m \u001b[0mfw\u001b[0m\u001b[0;34m:\u001b[0m\u001b[0;34m\u001b[0m\u001b[0;34m\u001b[0m\u001b[0m\n\u001b[0;32m----> 4\u001b[0;31m     \u001b[0;32mfor\u001b[0m \u001b[0mpages\u001b[0m \u001b[0;32min\u001b[0m \u001b[0mCursor\u001b[0m\u001b[0;34m(\u001b[0m\u001b[0mapi\u001b[0m\u001b[0;34m.\u001b[0m\u001b[0mfollowers\u001b[0m\u001b[0;34m,\u001b[0m \u001b[0mscreen_name\u001b[0m\u001b[0;34m=\u001b[0m\u001b[0;34m\"AppleSupport\"\u001b[0m\u001b[0;34m,\u001b[0m \u001b[0mcount\u001b[0m \u001b[0;34m=\u001b[0m\u001b[0;36m1000\u001b[0m\u001b[0;34m)\u001b[0m\u001b[0;34m.\u001b[0m\u001b[0mpages\u001b[0m\u001b[0;34m(\u001b[0m\u001b[0;36m500\u001b[0m\u001b[0;34m)\u001b[0m\u001b[0;34m:\u001b[0m\u001b[0;34m\u001b[0m\u001b[0;34m\u001b[0m\u001b[0m\n\u001b[0m\u001b[1;32m      5\u001b[0m       \u001b[0mprint\u001b[0m\u001b[0;34m(\u001b[0m\u001b[0;34m\"Retrieving 1k follower \"\u001b[0m\u001b[0;34m)\u001b[0m\u001b[0;34m\u001b[0m\u001b[0;34m\u001b[0m\u001b[0m\n\u001b[1;32m      6\u001b[0m       \u001b[0mtime\u001b[0m\u001b[0;34m.\u001b[0m\u001b[0msleep\u001b[0m\u001b[0;34m(\u001b[0m\u001b[0;36m2\u001b[0m\u001b[0;34m)\u001b[0m\u001b[0;34m\u001b[0m\u001b[0;34m\u001b[0m\u001b[0m\n",
            "\u001b[0;32m/usr/local/lib/python3.7/dist-packages/tweepy/cursor.py\u001b[0m in \u001b[0;36m__next__\u001b[0;34m(self)\u001b[0m\n\u001b[1;32m     49\u001b[0m \u001b[0;34m\u001b[0m\u001b[0m\n\u001b[1;32m     50\u001b[0m     \u001b[0;32mdef\u001b[0m \u001b[0m__next__\u001b[0m\u001b[0;34m(\u001b[0m\u001b[0mself\u001b[0m\u001b[0;34m)\u001b[0m\u001b[0;34m:\u001b[0m\u001b[0;34m\u001b[0m\u001b[0;34m\u001b[0m\u001b[0m\n\u001b[0;32m---> 51\u001b[0;31m         \u001b[0;32mreturn\u001b[0m \u001b[0mself\u001b[0m\u001b[0;34m.\u001b[0m\u001b[0mnext\u001b[0m\u001b[0;34m(\u001b[0m\u001b[0;34m)\u001b[0m\u001b[0;34m\u001b[0m\u001b[0;34m\u001b[0m\u001b[0m\n\u001b[0m\u001b[1;32m     52\u001b[0m \u001b[0;34m\u001b[0m\u001b[0m\n\u001b[1;32m     53\u001b[0m     \u001b[0;32mdef\u001b[0m \u001b[0mnext\u001b[0m\u001b[0;34m(\u001b[0m\u001b[0mself\u001b[0m\u001b[0;34m)\u001b[0m\u001b[0;34m:\u001b[0m\u001b[0;34m\u001b[0m\u001b[0;34m\u001b[0m\u001b[0m\n",
            "\u001b[0;32m/usr/local/lib/python3.7/dist-packages/tweepy/cursor.py\u001b[0m in \u001b[0;36mnext\u001b[0;34m(self)\u001b[0m\n\u001b[1;32m     75\u001b[0m         data, cursors = self.method(cursor=self.next_cursor,\n\u001b[1;32m     76\u001b[0m                                     \u001b[0;34m*\u001b[0m\u001b[0mself\u001b[0m\u001b[0;34m.\u001b[0m\u001b[0margs\u001b[0m\u001b[0;34m,\u001b[0m\u001b[0;34m\u001b[0m\u001b[0;34m\u001b[0m\u001b[0m\n\u001b[0;32m---> 77\u001b[0;31m                                     **self.kwargs)\n\u001b[0m\u001b[1;32m     78\u001b[0m         \u001b[0mself\u001b[0m\u001b[0;34m.\u001b[0m\u001b[0mprev_cursor\u001b[0m\u001b[0;34m,\u001b[0m \u001b[0mself\u001b[0m\u001b[0;34m.\u001b[0m\u001b[0mnext_cursor\u001b[0m \u001b[0;34m=\u001b[0m \u001b[0mcursors\u001b[0m\u001b[0;34m\u001b[0m\u001b[0;34m\u001b[0m\u001b[0m\n\u001b[1;32m     79\u001b[0m         \u001b[0;32mif\u001b[0m \u001b[0mlen\u001b[0m\u001b[0;34m(\u001b[0m\u001b[0mdata\u001b[0m\u001b[0;34m)\u001b[0m \u001b[0;34m==\u001b[0m \u001b[0;36m0\u001b[0m\u001b[0;34m:\u001b[0m\u001b[0;34m\u001b[0m\u001b[0;34m\u001b[0m\u001b[0m\n",
            "\u001b[0;32m/usr/local/lib/python3.7/dist-packages/tweepy/binder.py\u001b[0m in \u001b[0;36m_call\u001b[0;34m(*args, **kwargs)\u001b[0m\n\u001b[1;32m    251\u001b[0m                 \u001b[0;32mreturn\u001b[0m \u001b[0mmethod\u001b[0m\u001b[0;34m\u001b[0m\u001b[0;34m\u001b[0m\u001b[0m\n\u001b[1;32m    252\u001b[0m             \u001b[0;32melse\u001b[0m\u001b[0;34m:\u001b[0m\u001b[0;34m\u001b[0m\u001b[0;34m\u001b[0m\u001b[0m\n\u001b[0;32m--> 253\u001b[0;31m                 \u001b[0;32mreturn\u001b[0m \u001b[0mmethod\u001b[0m\u001b[0;34m.\u001b[0m\u001b[0mexecute\u001b[0m\u001b[0;34m(\u001b[0m\u001b[0;34m)\u001b[0m\u001b[0;34m\u001b[0m\u001b[0;34m\u001b[0m\u001b[0m\n\u001b[0m\u001b[1;32m    254\u001b[0m         \u001b[0;32mfinally\u001b[0m\u001b[0;34m:\u001b[0m\u001b[0;34m\u001b[0m\u001b[0;34m\u001b[0m\u001b[0m\n\u001b[1;32m    255\u001b[0m             \u001b[0mmethod\u001b[0m\u001b[0;34m.\u001b[0m\u001b[0msession\u001b[0m\u001b[0;34m.\u001b[0m\u001b[0mclose\u001b[0m\u001b[0;34m(\u001b[0m\u001b[0;34m)\u001b[0m\u001b[0;34m\u001b[0m\u001b[0;34m\u001b[0m\u001b[0m\n",
            "\u001b[0;32m/usr/local/lib/python3.7/dist-packages/tweepy/binder.py\u001b[0m in \u001b[0;36mexecute\u001b[0;34m(self)\u001b[0m\n\u001b[1;32m    161\u001b[0m                                     \u001b[0;32mif\u001b[0m \u001b[0mself\u001b[0m\u001b[0;34m.\u001b[0m\u001b[0mwait_on_rate_limit_notify\u001b[0m\u001b[0;34m:\u001b[0m\u001b[0;34m\u001b[0m\u001b[0;34m\u001b[0m\u001b[0m\n\u001b[1;32m    162\u001b[0m                                         \u001b[0mlog\u001b[0m\u001b[0;34m.\u001b[0m\u001b[0mwarning\u001b[0m\u001b[0;34m(\u001b[0m\u001b[0;34m\"Rate limit reached. Sleeping for: %d\"\u001b[0m \u001b[0;34m%\u001b[0m \u001b[0msleep_time\u001b[0m\u001b[0;34m)\u001b[0m\u001b[0;34m\u001b[0m\u001b[0;34m\u001b[0m\u001b[0m\n\u001b[0;32m--> 163\u001b[0;31m                                     \u001b[0mtime\u001b[0m\u001b[0;34m.\u001b[0m\u001b[0msleep\u001b[0m\u001b[0;34m(\u001b[0m\u001b[0msleep_time\u001b[0m \u001b[0;34m+\u001b[0m \u001b[0;36m5\u001b[0m\u001b[0;34m)\u001b[0m  \u001b[0;31m# sleep for few extra sec\u001b[0m\u001b[0;34m\u001b[0m\u001b[0;34m\u001b[0m\u001b[0m\n\u001b[0m\u001b[1;32m    164\u001b[0m \u001b[0;34m\u001b[0m\u001b[0m\n\u001b[1;32m    165\u001b[0m                 \u001b[0;31m# if self.wait_on_rate_limit and self._reset_time is not None and \\\u001b[0m\u001b[0;34m\u001b[0m\u001b[0;34m\u001b[0m\u001b[0;34m\u001b[0m\u001b[0m\n",
            "\u001b[0;31mKeyboardInterrupt\u001b[0m: "
          ]
        }
      ]
    },
    {
      "cell_type": "code",
      "metadata": {
        "colab": {
          "base_uri": "https://localhost:8080/"
        },
        "id": "QrXQ6tbdLGuj",
        "outputId": "14e00ad8-ae89-44fb-fd9a-f7a96238ae57"
      },
      "source": [
        "def dumpTimeline():\r\n",
        "  username = \"AppleSupport\"\r\n",
        "  fname=\"user_timeline_{}.json\".format(username)\r\n",
        "  \r\n",
        "  print(\"Batch collection of timeline statuses for \", username)\r\n",
        "\r\n",
        "  counter=0\r\n",
        "  with open(fname,'w') as f:\r\n",
        "    for page in Cursor(api.user_timeline, screen_name=username,count=50).pages(5):\r\n",
        "      for status in page:\r\n",
        "        f.write(json.dumps(status._json)+\"\\n\")\r\n",
        "        counter+=1\r\n",
        "  print(\"Total %d User Timeline Tweets collected\" % counter)\r\n",
        "\r\n",
        "\r\n",
        "dumpTimeline()"
      ],
      "execution_count": 9,
      "outputs": [
        {
          "output_type": "stream",
          "text": [
            "Batch collection of timeline statuses for  AppleSupport\n",
            "Total 250 User Timeline Tweets collected\n"
          ],
          "name": "stdout"
        }
      ]
    },
    {
      "cell_type": "code",
      "metadata": {
        "id": "kxkF4xiE5Wyu"
      },
      "source": [
        "screen_name = \"AppleSupport\"\r\n",
        "\r\n",
        "followers_file = 'followers_AppleSupport.json'.format(screen_name)\r\n",
        "\r\n",
        "with open(followers_file) as f:\r\n",
        "\r\n",
        "    reach = []\r\n",
        "\r\n",
        "    for line in f:\r\n",
        "\r\n",
        "      profile = json.loads(line)\r\n",
        "\r\n",
        "      reach.append((profile['screen_name'], profile['followers_count']))"
      ],
      "execution_count": 10,
      "outputs": []
    },
    {
      "cell_type": "code",
      "metadata": {
        "id": "8lfMdw6t7UMA"
      },
      "source": [
        "profile_file = 'AppleProfile.json'.format(screen_name)\r\n",
        "\r\n",
        "with open(profile_file) as f:\r\n",
        "\r\n",
        "    profile = json.load(f)\r\n",
        "\r\n",
        "    followers = profile['followers_count']\r\n",
        "\r\n",
        "    tweets = profile['statuses_count']\r\n",
        "\r\n",
        "sum_reach = sum([x[1] for x in reach])\r\n",
        "\r\n",
        "avg_followers = round(sum_reach / followers, 2)"
      ],
      "execution_count": 11,
      "outputs": []
    },
    {
      "cell_type": "code",
      "metadata": {
        "id": "DwVH3NDY7Xs7"
      },
      "source": [
        "timeline_file = 'user_timeline_AppleSupport.json'.format(screen_name)\r\n",
        "\r\n",
        "with open(timeline_file) as f:\r\n",
        "\r\n",
        "    favorite_count, retweet_count = [], []\r\n",
        "\r\n",
        "    for line in f:\r\n",
        "\r\n",
        "        tweet = json.loads(line)\r\n",
        "\r\n",
        "        favorite_count.append(tweet['favorite_count'])\r\n",
        "\r\n",
        "        retweet_count.append(tweet['retweet_count'])"
      ],
      "execution_count": 12,
      "outputs": []
    },
    {
      "cell_type": "code",
      "metadata": {
        "id": "v3_r8F1F7byZ"
      },
      "source": [
        "avg_favorite = round(sum(favorite_count) / tweets, 5)\r\n",
        "\r\n",
        "avg_retweet = round(sum(retweet_count) / tweets, 5)\r\n",
        "\r\n",
        "favorite_per_user = round(sum(favorite_count) / followers, 5)\r\n",
        "\r\n",
        "retweet_per_user = round(sum(retweet_count) / followers, 5)"
      ],
      "execution_count": 13,
      "outputs": []
    },
    {
      "cell_type": "code",
      "metadata": {
        "colab": {
          "base_uri": "https://localhost:8080/"
        },
        "id": "dradnEeN7d7t",
        "outputId": "f5021d3a-d1d9-4855-c5be-2414ca4153fc"
      },
      "source": [
        "print(\"{} followers\".format(followers))\r\n",
        "\r\n",
        "print(\"{} users reached by 1-degree connections\".format(sum_reach))\r\n",
        "\r\n",
        "print(\"Average number of {}'s followers: {}\".format(screen_name, avg_followers))\r\n",
        "\r\n",
        "print(\"Favorited {} times ({} per tweet, {} per user)\".format(sum(favorite_count), avg_favorite, favorite_per_user))\r\n",
        "\r\n",
        "print(\"Retweeted {} times ({} per tweet, {} per user)\".format(sum(retweet_count), avg_retweet, retweet_per_user))"
      ],
      "execution_count": 14,
      "outputs": [
        {
          "output_type": "stream",
          "text": [
            "1298665 followers\n",
            "133360 users reached by 1-degree connections\n",
            "Average number of AppleSupport's followers: 0.1\n",
            "Favorited 530 times (0.0004 per tweet, 0.00041 per user)\n",
            "Retweeted 99 times (7e-05 per tweet, 8e-05 per user)\n"
          ],
          "name": "stdout"
        }
      ]
    },
    {
      "cell_type": "code",
      "metadata": {
        "id": "f34ZhfEF7gfV"
      },
      "source": [
        ""
      ],
      "execution_count": null,
      "outputs": []
    }
  ]
}