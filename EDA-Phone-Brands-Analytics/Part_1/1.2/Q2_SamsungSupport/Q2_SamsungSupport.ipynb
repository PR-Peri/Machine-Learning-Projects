{
  "nbformat": 4,
  "nbformat_minor": 0,
  "metadata": {
    "colab": {
      "name": "Q2_SamsungSupport.ipynb",
      "provenance": []
    },
    "kernelspec": {
      "name": "python3",
      "display_name": "Python 3"
    }
  },
  "cells": [
    {
      "cell_type": "code",
      "metadata": {
        "colab": {
          "base_uri": "https://localhost:8080/"
        },
        "id": "_NQ_RuxzqfzZ",
        "outputId": "0d74af9b-e347-480a-cf3b-f25d457df658"
      },
      "source": [
        "import tweepy\r\n",
        "from tweepy import Stream\r\n",
        "from tweepy import OAuthHandler\r\n",
        "import datetime\r\n",
        "import time\r\n",
        "import json\r\n",
        "from google.colab import files\r\n",
        "from tweepy import Cursor\r\n",
        "!pip install xlsxwriter  \r\n",
        "!pip3 install twint \r\n",
        "import xlsxwriter\r\n",
        "import pandas as pd\r\n",
        "import csv\r\n",
        "import datetime\r\n",
        "from tweepy.streaming import StreamListener"
      ],
      "execution_count": null,
      "outputs": [
        {
          "output_type": "stream",
          "text": [
            "Collecting xlsxwriter\n",
            "\u001b[?25l  Downloading https://files.pythonhosted.org/packages/6b/41/bf1aae04932d1eaffee1fc5f8b38ca47bbbf07d765129539bc4bcce1ce0c/XlsxWriter-1.3.7-py2.py3-none-any.whl (144kB)\n",
            "\r\u001b[K     |██▎                             | 10kB 18.6MB/s eta 0:00:01\r\u001b[K     |████▌                           | 20kB 27.0MB/s eta 0:00:01\r\u001b[K     |██████▉                         | 30kB 24.5MB/s eta 0:00:01\r\u001b[K     |█████████                       | 40kB 18.2MB/s eta 0:00:01\r\u001b[K     |███████████▎                    | 51kB 15.9MB/s eta 0:00:01\r\u001b[K     |█████████████▋                  | 61kB 12.0MB/s eta 0:00:01\r\u001b[K     |███████████████▉                | 71kB 12.4MB/s eta 0:00:01\r\u001b[K     |██████████████████▏             | 81kB 12.5MB/s eta 0:00:01\r\u001b[K     |████████████████████▍           | 92kB 12.6MB/s eta 0:00:01\r\u001b[K     |██████████████████████▋         | 102kB 11.8MB/s eta 0:00:01\r\u001b[K     |█████████████████████████       | 112kB 11.8MB/s eta 0:00:01\r\u001b[K     |███████████████████████████▏    | 122kB 11.8MB/s eta 0:00:01\r\u001b[K     |█████████████████████████████▌  | 133kB 11.8MB/s eta 0:00:01\r\u001b[K     |███████████████████████████████▊| 143kB 11.8MB/s eta 0:00:01\r\u001b[K     |████████████████████████████████| 153kB 11.8MB/s \n",
            "\u001b[?25hInstalling collected packages: xlsxwriter\n",
            "Successfully installed xlsxwriter-1.3.7\n",
            "Collecting twint\n",
            "  Downloading https://files.pythonhosted.org/packages/69/e1/4daa62fbae8a34558015c227a8274bb2598e0fc6e330bdeb8484ed154ce7/twint-2.1.20.tar.gz\n",
            "Collecting aiohttp\n",
            "\u001b[?25l  Downloading https://files.pythonhosted.org/packages/88/c0/5890b4c8b04a79b7360e8fe4490feb0bb3ab179743f199f0e6220cebd568/aiohttp-3.7.4.post0-cp37-cp37m-manylinux2014_x86_64.whl (1.3MB)\n",
            "\u001b[K     |████████████████████████████████| 1.3MB 12.5MB/s \n",
            "\u001b[?25hCollecting aiodns\n",
            "  Downloading https://files.pythonhosted.org/packages/da/01/8f2d49b441573fd2478833bdba91cf0b853b4c750a1fbb9e98de1b94bb22/aiodns-2.0.0-py2.py3-none-any.whl\n",
            "Requirement already satisfied: beautifulsoup4 in /usr/local/lib/python3.7/dist-packages (from twint) (4.6.3)\n",
            "Collecting cchardet\n",
            "\u001b[?25l  Downloading https://files.pythonhosted.org/packages/80/72/a4fba7559978de00cf44081c548c5d294bf00ac7dcda2db405d2baa8c67a/cchardet-2.1.7-cp37-cp37m-manylinux2010_x86_64.whl (263kB)\n",
            "\u001b[K     |████████████████████████████████| 266kB 49.6MB/s \n",
            "\u001b[?25hCollecting elasticsearch\n",
            "\u001b[?25l  Downloading https://files.pythonhosted.org/packages/72/68/76c5d46cc6a48fddb759f585bc8728caa11bfc9b812ce6705fc5f99beab2/elasticsearch-7.11.0-py2.py3-none-any.whl (325kB)\n",
            "\u001b[K     |████████████████████████████████| 327kB 47.9MB/s \n",
            "\u001b[?25hRequirement already satisfied: pysocks in /usr/local/lib/python3.7/dist-packages (from twint) (1.7.1)\n",
            "Requirement already satisfied: pandas in /usr/local/lib/python3.7/dist-packages (from twint) (1.1.5)\n",
            "Collecting aiohttp_socks\n",
            "  Downloading https://files.pythonhosted.org/packages/9a/6c/d302e5a8097fee1e83b9f8e9da10d7752fbf27c74db18b3cc9528b3479be/aiohttp_socks-0.6.0-py3-none-any.whl\n",
            "Collecting schedule\n",
            "  Downloading https://files.pythonhosted.org/packages/43/8c/74529fcfbfaa93b8e88ba5d7f883805f87ee167ad878d0638cc012e5acc0/schedule-1.0.0-py2.py3-none-any.whl\n",
            "Requirement already satisfied: geopy in /usr/local/lib/python3.7/dist-packages (from twint) (1.17.0)\n",
            "Collecting fake-useragent\n",
            "  Downloading https://files.pythonhosted.org/packages/d1/79/af647635d6968e2deb57a208d309f6069d31cb138066d7e821e575112a80/fake-useragent-0.1.11.tar.gz\n",
            "Collecting googletransx\n",
            "  Downloading https://files.pythonhosted.org/packages/27/e1/77cd530afec7944d40c5bdd260bcc111be4012b045c82d4e3ffec90b2a42/googletransx-2.4.2.tar.gz\n",
            "Collecting async-timeout<4.0,>=3.0\n",
            "  Downloading https://files.pythonhosted.org/packages/e1/1e/5a4441be21b0726c4464f3f23c8b19628372f606755a9d2e46c187e65ec4/async_timeout-3.0.1-py3-none-any.whl\n",
            "Collecting yarl<2.0,>=1.0\n",
            "\u001b[?25l  Downloading https://files.pythonhosted.org/packages/f1/62/046834c5fc998c88ab2ef722f5d42122230a632212c8afa76418324f53ff/yarl-1.6.3-cp37-cp37m-manylinux2014_x86_64.whl (294kB)\n",
            "\u001b[K     |████████████████████████████████| 296kB 49.5MB/s \n",
            "\u001b[?25hRequirement already satisfied: typing-extensions>=3.6.5 in /usr/local/lib/python3.7/dist-packages (from aiohttp->twint) (3.7.4.3)\n",
            "Requirement already satisfied: attrs>=17.3.0 in /usr/local/lib/python3.7/dist-packages (from aiohttp->twint) (20.3.0)\n",
            "Collecting multidict<7.0,>=4.5\n",
            "\u001b[?25l  Downloading https://files.pythonhosted.org/packages/7c/a6/4123b8165acbe773d1a8dc8e3f0d1edea16d29f7de018eda769abb56bd30/multidict-5.1.0-cp37-cp37m-manylinux2014_x86_64.whl (142kB)\n",
            "\u001b[K     |████████████████████████████████| 143kB 50.1MB/s \n",
            "\u001b[?25hRequirement already satisfied: chardet<5.0,>=2.0 in /usr/local/lib/python3.7/dist-packages (from aiohttp->twint) (3.0.4)\n",
            "Collecting pycares>=3.0.0\n",
            "\u001b[?25l  Downloading https://files.pythonhosted.org/packages/d3/ea/6367930636a9859cc9ea8cb738a3e0c4f9929c596806214d5df4c48565db/pycares-3.1.1-cp37-cp37m-manylinux2010_x86_64.whl (228kB)\n",
            "\u001b[K     |████████████████████████████████| 235kB 48.0MB/s \n",
            "\u001b[?25hRequirement already satisfied: certifi in /usr/local/lib/python3.7/dist-packages (from elasticsearch->twint) (2020.12.5)\n",
            "Requirement already satisfied: urllib3<2,>=1.21.1 in /usr/local/lib/python3.7/dist-packages (from elasticsearch->twint) (1.24.3)\n",
            "Requirement already satisfied: numpy>=1.15.4 in /usr/local/lib/python3.7/dist-packages (from pandas->twint) (1.19.5)\n",
            "Requirement already satisfied: pytz>=2017.2 in /usr/local/lib/python3.7/dist-packages (from pandas->twint) (2018.9)\n",
            "Requirement already satisfied: python-dateutil>=2.7.3 in /usr/local/lib/python3.7/dist-packages (from pandas->twint) (2.8.1)\n",
            "Collecting python-socks[asyncio]>=1.2.2\n",
            "  Downloading https://files.pythonhosted.org/packages/f7/39/ce05e2772d9ec266644484ced4f9f6207b488b7670adcc9ddacf8ca78f91/python_socks-1.2.2-py3-none-any.whl\n",
            "Requirement already satisfied: geographiclib<2,>=1.49 in /usr/local/lib/python3.7/dist-packages (from geopy->twint) (1.50)\n",
            "Requirement already satisfied: requests in /usr/local/lib/python3.7/dist-packages (from googletransx->twint) (2.23.0)\n",
            "Requirement already satisfied: idna>=2.0 in /usr/local/lib/python3.7/dist-packages (from yarl<2.0,>=1.0->aiohttp->twint) (2.10)\n",
            "Requirement already satisfied: cffi>=1.5.0 in /usr/local/lib/python3.7/dist-packages (from pycares>=3.0.0->aiodns->twint) (1.14.5)\n",
            "Requirement already satisfied: six>=1.5 in /usr/local/lib/python3.7/dist-packages (from python-dateutil>=2.7.3->pandas->twint) (1.15.0)\n",
            "Requirement already satisfied: pycparser in /usr/local/lib/python3.7/dist-packages (from cffi>=1.5.0->pycares>=3.0.0->aiodns->twint) (2.20)\n",
            "Building wheels for collected packages: twint, fake-useragent, googletransx\n",
            "  Building wheel for twint (setup.py) ... \u001b[?25l\u001b[?25hdone\n",
            "  Created wheel for twint: filename=twint-2.1.20-cp37-none-any.whl size=33922 sha256=6b3c324b6c461207646aac0cae590ba918d4ad5e12ce2703726d59ec4c5ec584\n",
            "  Stored in directory: /root/.cache/pip/wheels/66/25/c7/855c1d896087ef84df6e6713b8adb073aff99af119450e1e4f\n",
            "  Building wheel for fake-useragent (setup.py) ... \u001b[?25l\u001b[?25hdone\n",
            "  Created wheel for fake-useragent: filename=fake_useragent-0.1.11-cp37-none-any.whl size=13485 sha256=e87a1e6f9b9d445fc465267204556056f5ce0d80859aa6269094f094e29a93a9\n",
            "  Stored in directory: /root/.cache/pip/wheels/5e/63/09/d1dc15179f175357d3f5c00cbffbac37f9e8690d80545143ff\n",
            "  Building wheel for googletransx (setup.py) ... \u001b[?25l\u001b[?25hdone\n",
            "  Created wheel for googletransx: filename=googletransx-2.4.2-cp37-none-any.whl size=15970 sha256=8f4e8e932918f14ecb32c8b9457a897c6560aa01178448a81d6a253fa132934a\n",
            "  Stored in directory: /root/.cache/pip/wheels/04/63/5f/75e7e94eb62517946116a783e4cd8970c4789c990bbc732616\n",
            "Successfully built twint fake-useragent googletransx\n",
            "Installing collected packages: async-timeout, multidict, yarl, aiohttp, pycares, aiodns, cchardet, elasticsearch, python-socks, aiohttp-socks, schedule, fake-useragent, googletransx, twint\n",
            "Successfully installed aiodns-2.0.0 aiohttp-3.7.4.post0 aiohttp-socks-0.6.0 async-timeout-3.0.1 cchardet-2.1.7 elasticsearch-7.11.0 fake-useragent-0.1.11 googletransx-2.4.2 multidict-5.1.0 pycares-3.1.1 python-socks-1.2.2 schedule-1.0.0 twint-2.1.20 yarl-1.6.3\n"
          ],
          "name": "stdout"
        }
      ]
    },
    {
      "cell_type": "code",
      "metadata": {
        "id": "2BwYCEooqhIo"
      },
      "source": [
        "# load/read from file using JSON\r\n",
        "secrets = json.loads(open(\"samsung_key.json\",\"r\").read())\r\n",
        "\r\n",
        "api_key = secrets['CONSUMER_KEY']\r\n",
        "api_key_secret = secrets['CONSUMER_SECRET']\r\n",
        "access_key = secrets['ACCESS_TOKEN_KEY']\r\n",
        "access_key_secret = secrets['ACCESS_TOKEN_SECRET']\r\n",
        "\r\n",
        "\r\n",
        "auth = OAuthHandler(api_key, api_key_secret)\r\n",
        "auth.set_access_token(access_key, access_key_secret)\r\n",
        "api = tweepy.API(auth, wait_on_rate_limit=True,wait_on_rate_limit_notify=True)\r\n",
        "\r\n",
        "#change per brand\r\n",
        "screen_name = \"SamsungSupport\""
      ],
      "execution_count": null,
      "outputs": []
    },
    {
      "cell_type": "code",
      "metadata": {
        "id": "dr8qnTOkqsWP"
      },
      "source": [
        "def getAudienceProfile():\r\n",
        "  \r\n",
        "  with open(\"SamsungProfile.json\", 'w') as f:\r\n",
        "    result = api.get_user(\"SamsungSupport\")\r\n",
        "    f.write(json.dumps(result._json, indent=3))\r\n",
        "\r\n",
        "getAudienceProfile()"
      ],
      "execution_count": null,
      "outputs": []
    },
    {
      "cell_type": "code",
      "metadata": {
        "colab": {
          "base_uri": "https://localhost:8080/",
          "height": 1000
        },
        "id": "A7rK55t8q72b",
        "outputId": "c713ef3d-d813-4af0-97bf-552f11df26ea"
      },
      "source": [
        "def getFollowers():\r\n",
        "  counter = 1\r\n",
        "  with open(\"followers_SamsungSupport.json\",\"w\") as fw:\r\n",
        "    for pages in Cursor(api.followers, screen_name=\"SamsungSupport\", count =1000).pages(500):\r\n",
        "      print(\"Retrieving 1k follower \")\r\n",
        "      time.sleep(2)\r\n",
        "      for follower in pages:\r\n",
        "        fw.write(json.dumps(follower._json) + \"\\n\")\r\n",
        "\r\n",
        "\r\n",
        "getFollowers()"
      ],
      "execution_count": null,
      "outputs": [
        {
          "output_type": "stream",
          "text": [
            "Retrieving 1k follower \n",
            "Retrieving 1k follower \n",
            "Retrieving 1k follower \n",
            "Retrieving 1k follower \n",
            "Retrieving 1k follower \n",
            "Retrieving 1k follower \n",
            "Retrieving 1k follower \n",
            "Retrieving 1k follower \n",
            "Retrieving 1k follower \n",
            "Retrieving 1k follower \n",
            "Retrieving 1k follower \n",
            "Retrieving 1k follower \n",
            "Retrieving 1k follower \n",
            "Retrieving 1k follower \n",
            "Retrieving 1k follower \n",
            "Retrieving 1k follower \n",
            "Retrieving 1k follower \n",
            "Retrieving 1k follower \n",
            "Retrieving 1k follower \n",
            "Retrieving 1k follower \n",
            "Retrieving 1k follower \n",
            "Retrieving 1k follower \n",
            "Retrieving 1k follower \n",
            "Retrieving 1k follower \n",
            "Retrieving 1k follower \n",
            "Retrieving 1k follower \n"
          ],
          "name": "stdout"
        },
        {
          "output_type": "stream",
          "text": [
            "Rate limit reached. Sleeping for: 830\n"
          ],
          "name": "stderr"
        },
        {
          "output_type": "stream",
          "text": [
            "Retrieving 1k follower \n",
            "Retrieving 1k follower \n",
            "Retrieving 1k follower \n",
            "Retrieving 1k follower \n",
            "Retrieving 1k follower \n",
            "Retrieving 1k follower \n",
            "Retrieving 1k follower \n",
            "Retrieving 1k follower \n",
            "Retrieving 1k follower \n",
            "Retrieving 1k follower \n",
            "Retrieving 1k follower \n",
            "Retrieving 1k follower \n",
            "Retrieving 1k follower \n",
            "Retrieving 1k follower \n",
            "Retrieving 1k follower \n"
          ],
          "name": "stdout"
        },
        {
          "output_type": "stream",
          "text": [
            "Rate limit reached. Sleeping for: 859\n"
          ],
          "name": "stderr"
        },
        {
          "output_type": "stream",
          "text": [
            "Retrieving 1k follower \n",
            "Retrieving 1k follower \n",
            "Retrieving 1k follower \n",
            "Retrieving 1k follower \n",
            "Retrieving 1k follower \n",
            "Retrieving 1k follower \n",
            "Retrieving 1k follower \n",
            "Retrieving 1k follower \n",
            "Retrieving 1k follower \n",
            "Retrieving 1k follower \n",
            "Retrieving 1k follower \n",
            "Retrieving 1k follower \n",
            "Retrieving 1k follower \n",
            "Retrieving 1k follower \n",
            "Retrieving 1k follower \n"
          ],
          "name": "stdout"
        },
        {
          "output_type": "stream",
          "text": [
            "Rate limit reached. Sleeping for: 857\n"
          ],
          "name": "stderr"
        },
        {
          "output_type": "error",
          "ename": "KeyboardInterrupt",
          "evalue": "ignored",
          "traceback": [
            "\u001b[0;31m---------------------------------------------------------------------------\u001b[0m",
            "\u001b[0;31mKeyboardInterrupt\u001b[0m                         Traceback (most recent call last)",
            "\u001b[0;32m<ipython-input-8-b9a82d16e6c9>\u001b[0m in \u001b[0;36m<module>\u001b[0;34m()\u001b[0m\n\u001b[1;32m      9\u001b[0m \u001b[0;34m\u001b[0m\u001b[0m\n\u001b[1;32m     10\u001b[0m \u001b[0;34m\u001b[0m\u001b[0m\n\u001b[0;32m---> 11\u001b[0;31m \u001b[0mgetFollowers\u001b[0m\u001b[0;34m(\u001b[0m\u001b[0;34m)\u001b[0m\u001b[0;34m\u001b[0m\u001b[0;34m\u001b[0m\u001b[0m\n\u001b[0m",
            "\u001b[0;32m<ipython-input-8-b9a82d16e6c9>\u001b[0m in \u001b[0;36mgetFollowers\u001b[0;34m()\u001b[0m\n\u001b[1;32m      2\u001b[0m   \u001b[0mcounter\u001b[0m \u001b[0;34m=\u001b[0m \u001b[0;36m1\u001b[0m\u001b[0;34m\u001b[0m\u001b[0;34m\u001b[0m\u001b[0m\n\u001b[1;32m      3\u001b[0m   \u001b[0;32mwith\u001b[0m \u001b[0mopen\u001b[0m\u001b[0;34m(\u001b[0m\u001b[0;34m\"followers_SamsungSupport.json\"\u001b[0m\u001b[0;34m,\u001b[0m\u001b[0;34m\"w\"\u001b[0m\u001b[0;34m)\u001b[0m \u001b[0;32mas\u001b[0m \u001b[0mfw\u001b[0m\u001b[0;34m:\u001b[0m\u001b[0;34m\u001b[0m\u001b[0;34m\u001b[0m\u001b[0m\n\u001b[0;32m----> 4\u001b[0;31m     \u001b[0;32mfor\u001b[0m \u001b[0mpages\u001b[0m \u001b[0;32min\u001b[0m \u001b[0mCursor\u001b[0m\u001b[0;34m(\u001b[0m\u001b[0mapi\u001b[0m\u001b[0;34m.\u001b[0m\u001b[0mfollowers\u001b[0m\u001b[0;34m,\u001b[0m \u001b[0mscreen_name\u001b[0m\u001b[0;34m=\u001b[0m\u001b[0;34m\"SamsungSupport\"\u001b[0m\u001b[0;34m,\u001b[0m \u001b[0mcount\u001b[0m \u001b[0;34m=\u001b[0m\u001b[0;36m1000\u001b[0m\u001b[0;34m)\u001b[0m\u001b[0;34m.\u001b[0m\u001b[0mpages\u001b[0m\u001b[0;34m(\u001b[0m\u001b[0;36m500\u001b[0m\u001b[0;34m)\u001b[0m\u001b[0;34m:\u001b[0m\u001b[0;34m\u001b[0m\u001b[0;34m\u001b[0m\u001b[0m\n\u001b[0m\u001b[1;32m      5\u001b[0m       \u001b[0mprint\u001b[0m\u001b[0;34m(\u001b[0m\u001b[0;34m\"Retrieving 1k follower \"\u001b[0m\u001b[0;34m)\u001b[0m\u001b[0;34m\u001b[0m\u001b[0;34m\u001b[0m\u001b[0m\n\u001b[1;32m      6\u001b[0m       \u001b[0mtime\u001b[0m\u001b[0;34m.\u001b[0m\u001b[0msleep\u001b[0m\u001b[0;34m(\u001b[0m\u001b[0;36m2\u001b[0m\u001b[0;34m)\u001b[0m\u001b[0;34m\u001b[0m\u001b[0;34m\u001b[0m\u001b[0m\n",
            "\u001b[0;32m/usr/local/lib/python3.7/dist-packages/tweepy/cursor.py\u001b[0m in \u001b[0;36m__next__\u001b[0;34m(self)\u001b[0m\n\u001b[1;32m     49\u001b[0m \u001b[0;34m\u001b[0m\u001b[0m\n\u001b[1;32m     50\u001b[0m     \u001b[0;32mdef\u001b[0m \u001b[0m__next__\u001b[0m\u001b[0;34m(\u001b[0m\u001b[0mself\u001b[0m\u001b[0;34m)\u001b[0m\u001b[0;34m:\u001b[0m\u001b[0;34m\u001b[0m\u001b[0;34m\u001b[0m\u001b[0m\n\u001b[0;32m---> 51\u001b[0;31m         \u001b[0;32mreturn\u001b[0m \u001b[0mself\u001b[0m\u001b[0;34m.\u001b[0m\u001b[0mnext\u001b[0m\u001b[0;34m(\u001b[0m\u001b[0;34m)\u001b[0m\u001b[0;34m\u001b[0m\u001b[0;34m\u001b[0m\u001b[0m\n\u001b[0m\u001b[1;32m     52\u001b[0m \u001b[0;34m\u001b[0m\u001b[0m\n\u001b[1;32m     53\u001b[0m     \u001b[0;32mdef\u001b[0m \u001b[0mnext\u001b[0m\u001b[0;34m(\u001b[0m\u001b[0mself\u001b[0m\u001b[0;34m)\u001b[0m\u001b[0;34m:\u001b[0m\u001b[0;34m\u001b[0m\u001b[0;34m\u001b[0m\u001b[0m\n",
            "\u001b[0;32m/usr/local/lib/python3.7/dist-packages/tweepy/cursor.py\u001b[0m in \u001b[0;36mnext\u001b[0;34m(self)\u001b[0m\n\u001b[1;32m     75\u001b[0m         data, cursors = self.method(cursor=self.next_cursor,\n\u001b[1;32m     76\u001b[0m                                     \u001b[0;34m*\u001b[0m\u001b[0mself\u001b[0m\u001b[0;34m.\u001b[0m\u001b[0margs\u001b[0m\u001b[0;34m,\u001b[0m\u001b[0;34m\u001b[0m\u001b[0;34m\u001b[0m\u001b[0m\n\u001b[0;32m---> 77\u001b[0;31m                                     **self.kwargs)\n\u001b[0m\u001b[1;32m     78\u001b[0m         \u001b[0mself\u001b[0m\u001b[0;34m.\u001b[0m\u001b[0mprev_cursor\u001b[0m\u001b[0;34m,\u001b[0m \u001b[0mself\u001b[0m\u001b[0;34m.\u001b[0m\u001b[0mnext_cursor\u001b[0m \u001b[0;34m=\u001b[0m \u001b[0mcursors\u001b[0m\u001b[0;34m\u001b[0m\u001b[0;34m\u001b[0m\u001b[0m\n\u001b[1;32m     79\u001b[0m         \u001b[0;32mif\u001b[0m \u001b[0mlen\u001b[0m\u001b[0;34m(\u001b[0m\u001b[0mdata\u001b[0m\u001b[0;34m)\u001b[0m \u001b[0;34m==\u001b[0m \u001b[0;36m0\u001b[0m\u001b[0;34m:\u001b[0m\u001b[0;34m\u001b[0m\u001b[0;34m\u001b[0m\u001b[0m\n",
            "\u001b[0;32m/usr/local/lib/python3.7/dist-packages/tweepy/binder.py\u001b[0m in \u001b[0;36m_call\u001b[0;34m(*args, **kwargs)\u001b[0m\n\u001b[1;32m    251\u001b[0m                 \u001b[0;32mreturn\u001b[0m \u001b[0mmethod\u001b[0m\u001b[0;34m\u001b[0m\u001b[0;34m\u001b[0m\u001b[0m\n\u001b[1;32m    252\u001b[0m             \u001b[0;32melse\u001b[0m\u001b[0;34m:\u001b[0m\u001b[0;34m\u001b[0m\u001b[0;34m\u001b[0m\u001b[0m\n\u001b[0;32m--> 253\u001b[0;31m                 \u001b[0;32mreturn\u001b[0m \u001b[0mmethod\u001b[0m\u001b[0;34m.\u001b[0m\u001b[0mexecute\u001b[0m\u001b[0;34m(\u001b[0m\u001b[0;34m)\u001b[0m\u001b[0;34m\u001b[0m\u001b[0;34m\u001b[0m\u001b[0m\n\u001b[0m\u001b[1;32m    254\u001b[0m         \u001b[0;32mfinally\u001b[0m\u001b[0;34m:\u001b[0m\u001b[0;34m\u001b[0m\u001b[0;34m\u001b[0m\u001b[0m\n\u001b[1;32m    255\u001b[0m             \u001b[0mmethod\u001b[0m\u001b[0;34m.\u001b[0m\u001b[0msession\u001b[0m\u001b[0;34m.\u001b[0m\u001b[0mclose\u001b[0m\u001b[0;34m(\u001b[0m\u001b[0;34m)\u001b[0m\u001b[0;34m\u001b[0m\u001b[0;34m\u001b[0m\u001b[0m\n",
            "\u001b[0;32m/usr/local/lib/python3.7/dist-packages/tweepy/binder.py\u001b[0m in \u001b[0;36mexecute\u001b[0;34m(self)\u001b[0m\n\u001b[1;32m    161\u001b[0m                                     \u001b[0;32mif\u001b[0m \u001b[0mself\u001b[0m\u001b[0;34m.\u001b[0m\u001b[0mwait_on_rate_limit_notify\u001b[0m\u001b[0;34m:\u001b[0m\u001b[0;34m\u001b[0m\u001b[0;34m\u001b[0m\u001b[0m\n\u001b[1;32m    162\u001b[0m                                         \u001b[0mlog\u001b[0m\u001b[0;34m.\u001b[0m\u001b[0mwarning\u001b[0m\u001b[0;34m(\u001b[0m\u001b[0;34m\"Rate limit reached. Sleeping for: %d\"\u001b[0m \u001b[0;34m%\u001b[0m \u001b[0msleep_time\u001b[0m\u001b[0;34m)\u001b[0m\u001b[0;34m\u001b[0m\u001b[0;34m\u001b[0m\u001b[0m\n\u001b[0;32m--> 163\u001b[0;31m                                     \u001b[0mtime\u001b[0m\u001b[0;34m.\u001b[0m\u001b[0msleep\u001b[0m\u001b[0;34m(\u001b[0m\u001b[0msleep_time\u001b[0m \u001b[0;34m+\u001b[0m \u001b[0;36m5\u001b[0m\u001b[0;34m)\u001b[0m  \u001b[0;31m# sleep for few extra sec\u001b[0m\u001b[0;34m\u001b[0m\u001b[0;34m\u001b[0m\u001b[0m\n\u001b[0m\u001b[1;32m    164\u001b[0m \u001b[0;34m\u001b[0m\u001b[0m\n\u001b[1;32m    165\u001b[0m                 \u001b[0;31m# if self.wait_on_rate_limit and self._reset_time is not None and \\\u001b[0m\u001b[0;34m\u001b[0m\u001b[0;34m\u001b[0m\u001b[0;34m\u001b[0m\u001b[0m\n",
            "\u001b[0;31mKeyboardInterrupt\u001b[0m: "
          ]
        }
      ]
    },
    {
      "cell_type": "code",
      "metadata": {
        "colab": {
          "base_uri": "https://localhost:8080/"
        },
        "id": "1qFGTOqDrBX7",
        "outputId": "a9f13b76-a21a-49b4-daa2-84ecc0d9d409"
      },
      "source": [
        "def dumpTimeline():\r\n",
        "  username = \"SamsungSupport\"\r\n",
        "  fname=\"user_timeline_{}.json\".format(username)\r\n",
        "  \r\n",
        "  print(\"Batch collection of timeline statuses for \", username)\r\n",
        "\r\n",
        "  counter=0\r\n",
        "  with open(fname,'w') as f:\r\n",
        "    for page in Cursor(api.user_timeline, screen_name=username,count=50).pages(5):\r\n",
        "      for status in page:\r\n",
        "        f.write(json.dumps(status._json)+\"\\n\")\r\n",
        "        counter+=1\r\n",
        "  print(\"Total %d User Timeline Tweets collected\" % counter)\r\n",
        "\r\n",
        "\r\n",
        "dumpTimeline()"
      ],
      "execution_count": null,
      "outputs": [
        {
          "output_type": "stream",
          "text": [
            "Batch collection of timeline statuses for  SamsungSupport\n",
            "Total 250 User Timeline Tweets collected\n"
          ],
          "name": "stdout"
        }
      ]
    },
    {
      "cell_type": "code",
      "metadata": {
        "id": "PUa60TaGrHnP"
      },
      "source": [
        "screen_name = \"SamsungSupport\"\r\n",
        "\r\n",
        "followers_file = 'followers_SamsungSupport.json'.format(screen_name)\r\n",
        "\r\n",
        "with open(followers_file) as f:\r\n",
        "\r\n",
        "    reach = []\r\n",
        "\r\n",
        "    for line in f:\r\n",
        "\r\n",
        "      profile = json.loads(line)\r\n",
        "\r\n",
        "      reach.append((profile['screen_name'], profile['followers_count']))"
      ],
      "execution_count": null,
      "outputs": []
    },
    {
      "cell_type": "code",
      "metadata": {
        "id": "xq0X_JcWrZbF"
      },
      "source": [
        "profile_file = 'SamsungProfile.json'.format(screen_name)\r\n",
        "\r\n",
        "with open(profile_file) as f:\r\n",
        "\r\n",
        "    profile = json.load(f)\r\n",
        "\r\n",
        "    followers = profile['followers_count']\r\n",
        "\r\n",
        "    tweets = profile['statuses_count']\r\n",
        "\r\n",
        "sum_reach = sum([x[1] for x in reach])\r\n",
        "\r\n",
        "avg_followers = round(sum_reach / followers, 2)"
      ],
      "execution_count": null,
      "outputs": []
    },
    {
      "cell_type": "code",
      "metadata": {
        "id": "S1yPy8vn3VAL"
      },
      "source": [
        "timeline_file = 'user_timeline_SamsungSupport.json'.format(screen_name)\r\n",
        "\r\n",
        "with open(timeline_file) as f:\r\n",
        "\r\n",
        "    favorite_count, retweet_count = [], []\r\n",
        "\r\n",
        "    for line in f:\r\n",
        "\r\n",
        "        tweet = json.loads(line)\r\n",
        "\r\n",
        "        favorite_count.append(tweet['favorite_count'])\r\n",
        "\r\n",
        "        retweet_count.append(tweet['retweet_count'])"
      ],
      "execution_count": null,
      "outputs": []
    },
    {
      "cell_type": "code",
      "metadata": {
        "id": "EvXR4VnT3bUi"
      },
      "source": [
        "avg_favorite = round(sum(favorite_count) / tweets, 5)\r\n",
        "\r\n",
        "avg_retweet = round(sum(retweet_count) / tweets, 5)\r\n",
        "\r\n",
        "favorite_per_user = round(sum(favorite_count) / followers, 5)\r\n",
        "\r\n",
        "retweet_per_user = round(sum(retweet_count) / followers, 5)"
      ],
      "execution_count": null,
      "outputs": []
    },
    {
      "cell_type": "code",
      "metadata": {
        "colab": {
          "base_uri": "https://localhost:8080/"
        },
        "id": "ufDohgm_3fW_",
        "outputId": "99e4f8e4-ff0a-4f24-a04b-455f5b061bf4"
      },
      "source": [
        "print(\"{} followers\".format(followers))\r\n",
        "\r\n",
        "print(\"{} users reached by 1-degree connections\".format(sum_reach))\r\n",
        "\r\n",
        "print(\"Average number of {}'s followers: {}\".format(screen_name, avg_followers))\r\n",
        "\r\n",
        "print(\"Favorited {} times ({} per tweet, {} per user)\".format(sum(favorite_count), avg_favorite, favorite_per_user))\r\n",
        "\r\n",
        "print(\"Retweeted {} times ({} per tweet, {} per user)\".format(sum(retweet_count), avg_retweet, retweet_per_user))"
      ],
      "execution_count": null,
      "outputs": [
        {
          "output_type": "stream",
          "text": [
            "175274 followers\n",
            "255723 users reached by 1-degree connections\n",
            "Average number of SamsungSupport's followers: 1.46\n",
            "Favorited 85 times (0.00016 per tweet, 0.00048 per user)\n",
            "Retweeted 9 times (2e-05 per tweet, 5e-05 per user)\n"
          ],
          "name": "stdout"
        }
      ]
    },
    {
      "cell_type": "code",
      "metadata": {
        "id": "YPhOekBe3hT1"
      },
      "source": [
        ""
      ],
      "execution_count": null,
      "outputs": []
    }
  ]
}