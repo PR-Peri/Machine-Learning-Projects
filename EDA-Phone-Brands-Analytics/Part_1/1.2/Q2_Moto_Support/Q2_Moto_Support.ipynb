{
  "nbformat": 4,
  "nbformat_minor": 0,
  "metadata": {
    "colab": {
      "name": "Q2_Moto_Support.ipynb",
      "provenance": []
    },
    "kernelspec": {
      "name": "python3",
      "display_name": "Python 3"
    }
  },
  "cells": [
    {
      "cell_type": "code",
      "metadata": {
        "colab": {
          "base_uri": "https://localhost:8080/"
        },
        "id": "3U1RXaWPCsBo",
        "outputId": "5cdfc442-eb18-416e-810e-252111b0a004"
      },
      "source": [
        "import tweepy\r\n",
        "from tweepy import Stream\r\n",
        "from tweepy import OAuthHandler\r\n",
        "import datetime\r\n",
        "import time\r\n",
        "import json\r\n",
        "from google.colab import files\r\n",
        "from tweepy import Cursor\r\n",
        "import xlsxwriter\r\n",
        "import pandas as pd\r\n",
        "import csv\r\n",
        "import datetime\r\n",
        "from tweepy.streaming import StreamListener\r\n",
        "!pip install xlsxwriter  \r\n",
        "!pip3 install twint "
      ],
      "execution_count": 1,
      "outputs": [
        {
          "output_type": "stream",
          "text": [
            "Collecting xlsxwriter\n",
            "\u001b[?25l  Downloading https://files.pythonhosted.org/packages/6b/41/bf1aae04932d1eaffee1fc5f8b38ca47bbbf07d765129539bc4bcce1ce0c/XlsxWriter-1.3.7-py2.py3-none-any.whl (144kB)\n",
            "\r\u001b[K     |██▎                             | 10kB 15.4MB/s eta 0:00:01\r\u001b[K     |████▌                           | 20kB 13.4MB/s eta 0:00:01\r\u001b[K     |██████▉                         | 30kB 8.6MB/s eta 0:00:01\r\u001b[K     |█████████                       | 40kB 8.1MB/s eta 0:00:01\r\u001b[K     |███████████▎                    | 51kB 4.4MB/s eta 0:00:01\r\u001b[K     |█████████████▋                  | 61kB 4.8MB/s eta 0:00:01\r\u001b[K     |███████████████▉                | 71kB 5.1MB/s eta 0:00:01\r\u001b[K     |██████████████████▏             | 81kB 5.2MB/s eta 0:00:01\r\u001b[K     |████████████████████▍           | 92kB 5.7MB/s eta 0:00:01\r\u001b[K     |██████████████████████▋         | 102kB 5.9MB/s eta 0:00:01\r\u001b[K     |█████████████████████████       | 112kB 5.9MB/s eta 0:00:01\r\u001b[K     |███████████████████████████▏    | 122kB 5.9MB/s eta 0:00:01\r\u001b[K     |█████████████████████████████▌  | 133kB 5.9MB/s eta 0:00:01\r\u001b[K     |███████████████████████████████▊| 143kB 5.9MB/s eta 0:00:01\r\u001b[K     |████████████████████████████████| 153kB 5.9MB/s \n",
            "\u001b[?25hInstalling collected packages: xlsxwriter\n",
            "Successfully installed xlsxwriter-1.3.7\n"
          ],
          "name": "stdout"
        }
      ]
    },
    {
      "cell_type": "code",
      "metadata": {
        "id": "Pg0tl1LZCte-"
      },
      "source": [
        "# load/read from file using JSON\r\n",
        "secrets = json.loads(open(\"secrets_Motorola.json\",\"r\").read())\r\n",
        "\r\n",
        "api_key = secrets['CONSUMER_KEY']\r\n",
        "api_key_secret = secrets['CONSUMER_SECRET']\r\n",
        "access_key = secrets['ACCESS_TOKEN_KEY']\r\n",
        "access_key_secret = secrets['ACCESS_TOKEN_SECRET']\r\n",
        "\r\n",
        "\r\n",
        "auth = OAuthHandler(api_key, api_key_secret)\r\n",
        "auth.set_access_token(access_key, access_key_secret)\r\n",
        "api = tweepy.API(auth, wait_on_rate_limit=True,wait_on_rate_limit_notify=True)\r\n",
        "\r\n",
        "#change per brand\r\n",
        "screen_name = \"Moto_Support\""
      ],
      "execution_count": 8,
      "outputs": []
    },
    {
      "cell_type": "code",
      "metadata": {
        "id": "NZfjp3C-Cygt"
      },
      "source": [
        "def getAudienceProfile():\r\n",
        "  \r\n",
        "  with open(\"MotoProfile.json\", 'w') as f:\r\n",
        "    result = api.get_user(\"Moto_Support\")\r\n",
        "    f.write(json.dumps(result._json, indent=3))\r\n",
        "\r\n",
        "getAudienceProfile()"
      ],
      "execution_count": 9,
      "outputs": []
    },
    {
      "cell_type": "code",
      "metadata": {
        "id": "ws0z8hxjDu7r"
      },
      "source": [
        "def getFollowers():\r\n",
        "  counter = 1\r\n",
        "  with open(\"followers_Moto_Support.json\",\"w\") as fw:\r\n",
        "    for pages in Cursor(api.followers, screen_name=\"Moto_Support\", count =1000).pages(500):\r\n",
        "      print(\"Retrieving 1k follower \")\r\n",
        "      time.sleep(2)\r\n",
        "      for follower in pages:\r\n",
        "        fw.write(json.dumps(follower._json) + \"\\n\")\r\n",
        "\r\n",
        "\r\n",
        "getFollowers()"
      ],
      "execution_count": null,
      "outputs": []
    },
    {
      "cell_type": "code",
      "metadata": {
        "colab": {
          "base_uri": "https://localhost:8080/"
        },
        "id": "WgZQiw4hED-d",
        "outputId": "9929982d-b274-4042-f173-bf2f971df373"
      },
      "source": [
        "def dumpTimeline():\r\n",
        "  username = \"Moto_Support\"\r\n",
        "  fname=\"user_timeline_{}.json\".format(username)\r\n",
        "  \r\n",
        "  print(\"Batch collection of timeline statuses for \", username)\r\n",
        "\r\n",
        "  counter=0\r\n",
        "  with open(fname,'w') as f:\r\n",
        "    for page in Cursor(api.user_timeline, screen_name=username,count=50).pages(5):\r\n",
        "      for status in page:\r\n",
        "        f.write(json.dumps(status._json)+\"\\n\")\r\n",
        "        counter+=1\r\n",
        "  print(\"Total %d User Timeline Tweets collected\" % counter)\r\n",
        "\r\n",
        "dumpTimeline()"
      ],
      "execution_count": 10,
      "outputs": [
        {
          "output_type": "stream",
          "text": [
            "Batch collection of timeline statuses for  Moto_Support\n",
            "Total 250 User Timeline Tweets collected\n"
          ],
          "name": "stdout"
        }
      ]
    },
    {
      "cell_type": "code",
      "metadata": {
        "id": "tfyuOlaUENs8"
      },
      "source": [
        "import json\r\n",
        "screen_name = \"Moto_Support\"\r\n",
        "\r\n",
        "followers_file = 'followers_Moto_Support.json'.format(screen_name)\r\n",
        "\r\n",
        "with open(followers_file) as f:\r\n",
        "\r\n",
        "    reach = []\r\n",
        "\r\n",
        "    for line in f:\r\n",
        "\r\n",
        "      profile = json.loads(line)\r\n",
        "\r\n",
        "      reach.append((profile['screen_name'], profile['followers_count']))"
      ],
      "execution_count": 11,
      "outputs": []
    },
    {
      "cell_type": "code",
      "metadata": {
        "id": "VIJCY3xxEuDT"
      },
      "source": [
        "profile_file = 'MotoProfile.json'.format(screen_name)\r\n",
        "\r\n",
        "with open(profile_file) as f:\r\n",
        "\r\n",
        "    profile = json.load(f)\r\n",
        "\r\n",
        "    followers = profile['followers_count']\r\n",
        "\r\n",
        "    tweets = profile['statuses_count']\r\n",
        "\r\n",
        "sum_reach = sum([x[1] for x in reach])\r\n",
        "\r\n",
        "avg_followers = round(sum_reach / followers, 2)"
      ],
      "execution_count": 12,
      "outputs": []
    },
    {
      "cell_type": "code",
      "metadata": {
        "id": "TrogqFTeF8KL"
      },
      "source": [
        "timeline_file = 'user_timeline_Moto_Support.json'.format(screen_name)\r\n",
        "\r\n",
        "with open(timeline_file) as f:\r\n",
        "\r\n",
        "    favorite_count, retweet_count = [], []\r\n",
        "\r\n",
        "    for line in f:\r\n",
        "\r\n",
        "        tweet = json.loads(line)\r\n",
        "\r\n",
        "        favorite_count.append(tweet['favorite_count'])\r\n",
        "\r\n",
        "        retweet_count.append(tweet['retweet_count'])"
      ],
      "execution_count": 13,
      "outputs": []
    },
    {
      "cell_type": "code",
      "metadata": {
        "id": "9J6ErqgPGBpR"
      },
      "source": [
        "avg_favorite = round(sum(favorite_count) / tweets, 5)\r\n",
        "\r\n",
        "avg_retweet = round(sum(retweet_count) / tweets, 5)\r\n",
        "\r\n",
        "favorite_per_user = round(sum(favorite_count) / followers, 5)\r\n",
        "\r\n",
        "retweet_per_user = round(sum(retweet_count) / followers, 5)"
      ],
      "execution_count": 14,
      "outputs": []
    },
    {
      "cell_type": "code",
      "metadata": {
        "colab": {
          "base_uri": "https://localhost:8080/"
        },
        "id": "sJPYSBNzGDnS",
        "outputId": "fa7bed33-8541-41e1-a4bc-0a4ba5ab7162"
      },
      "source": [
        "print(\"{} followers\".format(followers))\r\n",
        "\r\n",
        "print(\"{} users reached by 1-degree connections\".format(sum_reach))\r\n",
        "\r\n",
        "print(\"Average number of {}'s followers: {}\".format(screen_name, avg_followers))\r\n",
        "\r\n",
        "print(\"Favorited {} times ({} per tweet, {} per user)\".format(sum(favorite_count), avg_favorite, favorite_per_user))\r\n",
        "\r\n",
        "print(\"Retweeted {} times ({} per tweet, {} per user)\".format(sum(retweet_count), avg_retweet, retweet_per_user))"
      ],
      "execution_count": 17,
      "outputs": [
        {
          "output_type": "stream",
          "text": [
            "95079 followers\n",
            "126683 users reached by 1-degree connections\n",
            "Average number of Moto_Support's followers: 1.33\n",
            "Favorited 31 times (0.00029 per tweet, 0.00033 per user)\n",
            "Retweeted 1 times (1e-05 per tweet, 1e-05 per user)\n"
          ],
          "name": "stdout"
        }
      ]
    },
    {
      "cell_type": "code",
      "metadata": {
        "id": "wmuoJ3hXGFtX"
      },
      "source": [
        ""
      ],
      "execution_count": null,
      "outputs": []
    }
  ]
}