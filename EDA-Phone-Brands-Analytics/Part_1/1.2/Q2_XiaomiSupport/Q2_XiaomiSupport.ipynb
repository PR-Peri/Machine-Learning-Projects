{
  "nbformat": 4,
  "nbformat_minor": 0,
  "metadata": {
    "colab": {
      "name": "Q2_XiaomiSupport.ipynb",
      "provenance": []
    },
    "kernelspec": {
      "name": "python3",
      "display_name": "Python 3"
    }
  },
  "cells": [
    {
      "cell_type": "code",
      "metadata": {
        "colab": {
          "base_uri": "https://localhost:8080/"
        },
        "id": "TZM6BlBVIzpO",
        "outputId": "6f1308c7-8a3e-4793-ff1a-7db45fcd1746"
      },
      "source": [
        "import tweepy\r\n",
        "from tweepy import Stream\r\n",
        "from tweepy import OAuthHandler\r\n",
        "import datetime\r\n",
        "import time\r\n",
        "import json\r\n",
        "from google.colab import files\r\n",
        "from tweepy import Cursor\r\n",
        "!pip install xlsxwriter  \r\n",
        "!pip3 install twint \r\n",
        "import xlsxwriter\r\n",
        "import pandas as pd\r\n",
        "import csv\r\n",
        "import datetime\r\n",
        "from tweepy.streaming import StreamListener"
      ],
      "execution_count": 2,
      "outputs": [
        {
          "output_type": "stream",
          "text": [
            "Collecting xlsxwriter\n",
            "\u001b[?25l  Downloading https://files.pythonhosted.org/packages/6b/41/bf1aae04932d1eaffee1fc5f8b38ca47bbbf07d765129539bc4bcce1ce0c/XlsxWriter-1.3.7-py2.py3-none-any.whl (144kB)\n",
            "\r\u001b[K     |██▎                             | 10kB 14.4MB/s eta 0:00:01\r\u001b[K     |████▌                           | 20kB 16.7MB/s eta 0:00:01\r\u001b[K     |██████▉                         | 30kB 9.6MB/s eta 0:00:01\r\u001b[K     |█████████                       | 40kB 8.0MB/s eta 0:00:01\r\u001b[K     |███████████▎                    | 51kB 5.4MB/s eta 0:00:01\r\u001b[K     |█████████████▋                  | 61kB 5.9MB/s eta 0:00:01\r\u001b[K     |███████████████▉                | 71kB 5.9MB/s eta 0:00:01\r\u001b[K     |██████████████████▏             | 81kB 6.5MB/s eta 0:00:01\r\u001b[K     |████████████████████▍           | 92kB 6.0MB/s eta 0:00:01\r\u001b[K     |██████████████████████▋         | 102kB 6.5MB/s eta 0:00:01\r\u001b[K     |█████████████████████████       | 112kB 6.5MB/s eta 0:00:01\r\u001b[K     |███████████████████████████▏    | 122kB 6.5MB/s eta 0:00:01\r\u001b[K     |█████████████████████████████▌  | 133kB 6.5MB/s eta 0:00:01\r\u001b[K     |███████████████████████████████▊| 143kB 6.5MB/s eta 0:00:01\r\u001b[K     |████████████████████████████████| 153kB 6.5MB/s \n",
            "\u001b[?25hInstalling collected packages: xlsxwriter\n",
            "Successfully installed xlsxwriter-1.3.7\n",
            "Collecting twint\n",
            "  Downloading https://files.pythonhosted.org/packages/69/e1/4daa62fbae8a34558015c227a8274bb2598e0fc6e330bdeb8484ed154ce7/twint-2.1.20.tar.gz\n",
            "Collecting aiohttp\n",
            "\u001b[?25l  Downloading https://files.pythonhosted.org/packages/88/c0/5890b4c8b04a79b7360e8fe4490feb0bb3ab179743f199f0e6220cebd568/aiohttp-3.7.4.post0-cp37-cp37m-manylinux2014_x86_64.whl (1.3MB)\n",
            "\u001b[K     |████████████████████████████████| 1.3MB 8.9MB/s \n",
            "\u001b[?25hCollecting aiodns\n",
            "  Downloading https://files.pythonhosted.org/packages/da/01/8f2d49b441573fd2478833bdba91cf0b853b4c750a1fbb9e98de1b94bb22/aiodns-2.0.0-py2.py3-none-any.whl\n",
            "Requirement already satisfied: beautifulsoup4 in /usr/local/lib/python3.7/dist-packages (from twint) (4.6.3)\n",
            "Collecting cchardet\n",
            "\u001b[?25l  Downloading https://files.pythonhosted.org/packages/80/72/a4fba7559978de00cf44081c548c5d294bf00ac7dcda2db405d2baa8c67a/cchardet-2.1.7-cp37-cp37m-manylinux2010_x86_64.whl (263kB)\n",
            "\u001b[K     |████████████████████████████████| 266kB 37.8MB/s \n",
            "\u001b[?25hCollecting elasticsearch\n",
            "\u001b[?25l  Downloading https://files.pythonhosted.org/packages/72/68/76c5d46cc6a48fddb759f585bc8728caa11bfc9b812ce6705fc5f99beab2/elasticsearch-7.11.0-py2.py3-none-any.whl (325kB)\n",
            "\u001b[K     |████████████████████████████████| 327kB 41.7MB/s \n",
            "\u001b[?25hRequirement already satisfied: pysocks in /usr/local/lib/python3.7/dist-packages (from twint) (1.7.1)\n",
            "Requirement already satisfied: pandas in /usr/local/lib/python3.7/dist-packages (from twint) (1.1.5)\n",
            "Collecting aiohttp_socks\n",
            "  Downloading https://files.pythonhosted.org/packages/9a/6c/d302e5a8097fee1e83b9f8e9da10d7752fbf27c74db18b3cc9528b3479be/aiohttp_socks-0.6.0-py3-none-any.whl\n",
            "Collecting schedule\n",
            "  Downloading https://files.pythonhosted.org/packages/43/8c/74529fcfbfaa93b8e88ba5d7f883805f87ee167ad878d0638cc012e5acc0/schedule-1.0.0-py2.py3-none-any.whl\n",
            "Requirement already satisfied: geopy in /usr/local/lib/python3.7/dist-packages (from twint) (1.17.0)\n",
            "Collecting fake-useragent\n",
            "  Downloading https://files.pythonhosted.org/packages/d1/79/af647635d6968e2deb57a208d309f6069d31cb138066d7e821e575112a80/fake-useragent-0.1.11.tar.gz\n",
            "Collecting googletransx\n",
            "  Downloading https://files.pythonhosted.org/packages/27/e1/77cd530afec7944d40c5bdd260bcc111be4012b045c82d4e3ffec90b2a42/googletransx-2.4.2.tar.gz\n",
            "Collecting multidict<7.0,>=4.5\n",
            "\u001b[?25l  Downloading https://files.pythonhosted.org/packages/7c/a6/4123b8165acbe773d1a8dc8e3f0d1edea16d29f7de018eda769abb56bd30/multidict-5.1.0-cp37-cp37m-manylinux2014_x86_64.whl (142kB)\n",
            "\u001b[K     |████████████████████████████████| 143kB 31.3MB/s \n",
            "\u001b[?25hCollecting yarl<2.0,>=1.0\n",
            "\u001b[?25l  Downloading https://files.pythonhosted.org/packages/f1/62/046834c5fc998c88ab2ef722f5d42122230a632212c8afa76418324f53ff/yarl-1.6.3-cp37-cp37m-manylinux2014_x86_64.whl (294kB)\n",
            "\u001b[K     |████████████████████████████████| 296kB 41.7MB/s \n",
            "\u001b[?25hCollecting async-timeout<4.0,>=3.0\n",
            "  Downloading https://files.pythonhosted.org/packages/e1/1e/5a4441be21b0726c4464f3f23c8b19628372f606755a9d2e46c187e65ec4/async_timeout-3.0.1-py3-none-any.whl\n",
            "Requirement already satisfied: chardet<5.0,>=2.0 in /usr/local/lib/python3.7/dist-packages (from aiohttp->twint) (3.0.4)\n",
            "Requirement already satisfied: typing-extensions>=3.6.5 in /usr/local/lib/python3.7/dist-packages (from aiohttp->twint) (3.7.4.3)\n",
            "Requirement already satisfied: attrs>=17.3.0 in /usr/local/lib/python3.7/dist-packages (from aiohttp->twint) (20.3.0)\n",
            "Collecting pycares>=3.0.0\n",
            "\u001b[?25l  Downloading https://files.pythonhosted.org/packages/d3/ea/6367930636a9859cc9ea8cb738a3e0c4f9929c596806214d5df4c48565db/pycares-3.1.1-cp37-cp37m-manylinux2010_x86_64.whl (228kB)\n",
            "\u001b[K     |████████████████████████████████| 235kB 40.8MB/s \n",
            "\u001b[?25hRequirement already satisfied: certifi in /usr/local/lib/python3.7/dist-packages (from elasticsearch->twint) (2020.12.5)\n",
            "Requirement already satisfied: urllib3<2,>=1.21.1 in /usr/local/lib/python3.7/dist-packages (from elasticsearch->twint) (1.24.3)\n",
            "Requirement already satisfied: python-dateutil>=2.7.3 in /usr/local/lib/python3.7/dist-packages (from pandas->twint) (2.8.1)\n",
            "Requirement already satisfied: numpy>=1.15.4 in /usr/local/lib/python3.7/dist-packages (from pandas->twint) (1.19.5)\n",
            "Requirement already satisfied: pytz>=2017.2 in /usr/local/lib/python3.7/dist-packages (from pandas->twint) (2018.9)\n",
            "Collecting python-socks[asyncio]>=1.2.2\n",
            "  Downloading https://files.pythonhosted.org/packages/f7/39/ce05e2772d9ec266644484ced4f9f6207b488b7670adcc9ddacf8ca78f91/python_socks-1.2.2-py3-none-any.whl\n",
            "Requirement already satisfied: geographiclib<2,>=1.49 in /usr/local/lib/python3.7/dist-packages (from geopy->twint) (1.50)\n",
            "Requirement already satisfied: requests in /usr/local/lib/python3.7/dist-packages (from googletransx->twint) (2.23.0)\n",
            "Requirement already satisfied: idna>=2.0 in /usr/local/lib/python3.7/dist-packages (from yarl<2.0,>=1.0->aiohttp->twint) (2.10)\n",
            "Requirement already satisfied: cffi>=1.5.0 in /usr/local/lib/python3.7/dist-packages (from pycares>=3.0.0->aiodns->twint) (1.14.5)\n",
            "Requirement already satisfied: six>=1.5 in /usr/local/lib/python3.7/dist-packages (from python-dateutil>=2.7.3->pandas->twint) (1.15.0)\n",
            "Requirement already satisfied: pycparser in /usr/local/lib/python3.7/dist-packages (from cffi>=1.5.0->pycares>=3.0.0->aiodns->twint) (2.20)\n",
            "Building wheels for collected packages: twint, fake-useragent, googletransx\n",
            "  Building wheel for twint (setup.py) ... \u001b[?25l\u001b[?25hdone\n",
            "  Created wheel for twint: filename=twint-2.1.20-cp37-none-any.whl size=33922 sha256=fea9a40a295cfc4b27f0a9c300b311eca8c9f028bea4f97510b70670bb676ca9\n",
            "  Stored in directory: /root/.cache/pip/wheels/66/25/c7/855c1d896087ef84df6e6713b8adb073aff99af119450e1e4f\n",
            "  Building wheel for fake-useragent (setup.py) ... \u001b[?25l\u001b[?25hdone\n",
            "  Created wheel for fake-useragent: filename=fake_useragent-0.1.11-cp37-none-any.whl size=13485 sha256=b07376255a91a41113a93a8c6be1fee09d4ce48deef7a992ff59cf262652fefc\n",
            "  Stored in directory: /root/.cache/pip/wheels/5e/63/09/d1dc15179f175357d3f5c00cbffbac37f9e8690d80545143ff\n",
            "  Building wheel for googletransx (setup.py) ... \u001b[?25l\u001b[?25hdone\n",
            "  Created wheel for googletransx: filename=googletransx-2.4.2-cp37-none-any.whl size=15970 sha256=656edc25ece6f708dd56e3afad4abf63c0a1f591121688ab078b13d270bb876c\n",
            "  Stored in directory: /root/.cache/pip/wheels/04/63/5f/75e7e94eb62517946116a783e4cd8970c4789c990bbc732616\n",
            "Successfully built twint fake-useragent googletransx\n",
            "Installing collected packages: multidict, yarl, async-timeout, aiohttp, pycares, aiodns, cchardet, elasticsearch, python-socks, aiohttp-socks, schedule, fake-useragent, googletransx, twint\n",
            "Successfully installed aiodns-2.0.0 aiohttp-3.7.4.post0 aiohttp-socks-0.6.0 async-timeout-3.0.1 cchardet-2.1.7 elasticsearch-7.11.0 fake-useragent-0.1.11 googletransx-2.4.2 multidict-5.1.0 pycares-3.1.1 python-socks-1.2.2 schedule-1.0.0 twint-2.1.20 yarl-1.6.3\n"
          ],
          "name": "stdout"
        }
      ]
    },
    {
      "cell_type": "code",
      "metadata": {
        "id": "_mzp3CotI2w0"
      },
      "source": [
        "# load/read from file using JSON\r\n",
        "secrets = json.loads(open(\"secrets_Xiaomi.json\",\"r\").read())\r\n",
        "\r\n",
        "api_key = secrets['CONSUMER_KEY']\r\n",
        "api_key_secret = secrets['CONSUMER_SECRET']\r\n",
        "access_key = secrets['ACCESS_TOKEN_KEY']\r\n",
        "access_key_secret = secrets['ACCESS_TOKEN_SECRET']\r\n",
        "\r\n",
        "\r\n",
        "auth = OAuthHandler(api_key, api_key_secret)\r\n",
        "auth.set_access_token(access_key, access_key_secret)\r\n",
        "api = tweepy.API(auth, wait_on_rate_limit=True,wait_on_rate_limit_notify=True)\r\n",
        "\r\n",
        "#change per brand\r\n",
        "screen_name = \"XiaomiSupport\""
      ],
      "execution_count": 3,
      "outputs": []
    },
    {
      "cell_type": "code",
      "metadata": {
        "id": "nSyznFCVJT3_"
      },
      "source": [
        "def getAudienceProfile():\r\n",
        "  \r\n",
        "  with open(\"XiaomiProfile.json\", 'w') as f:\r\n",
        "    result = api.get_user(\"XiaomiSupport\")\r\n",
        "    f.write(json.dumps(result._json, indent=3))\r\n",
        "\r\n",
        "getAudienceProfile()"
      ],
      "execution_count": 4,
      "outputs": []
    },
    {
      "cell_type": "code",
      "metadata": {
        "id": "j396OAQhJhBX"
      },
      "source": [
        "def getFollowers():\r\n",
        "  counter = 1\r\n",
        "  with open(\"followers_XiaomiSupport.json\",\"w\") as fw:\r\n",
        "    for pages in Cursor(api.followers, screen_name=\"XiaomiSupport\", count =1000).pages(500):\r\n",
        "      print(\"Retrieving 1k follower \")\r\n",
        "      time.sleep(2)\r\n",
        "      for follower in pages:\r\n",
        "        fw.write(json.dumps(follower._json) + \"\\n\")\r\n",
        "\r\n",
        "\r\n",
        "getFollowers()"
      ],
      "execution_count": null,
      "outputs": []
    },
    {
      "cell_type": "code",
      "metadata": {
        "colab": {
          "base_uri": "https://localhost:8080/"
        },
        "id": "J50F-JMDJrij",
        "outputId": "a1cddf46-0f06-4654-e385-d50985c1370b"
      },
      "source": [
        "def dumpTimeline():\r\n",
        "  username = \"XiaomiSupport\"\r\n",
        "  fname=\"user_timeline_{}.json\".format(username)\r\n",
        "  \r\n",
        "  print(\"Batch collection of timeline statuses for \", username)\r\n",
        "\r\n",
        "  counter=0\r\n",
        "  with open(fname,'w') as f:\r\n",
        "    for page in Cursor(api.user_timeline, screen_name=username,count=50).pages(5):\r\n",
        "      for status in page:\r\n",
        "        f.write(json.dumps(status._json)+\"\\n\")\r\n",
        "        counter+=1\r\n",
        "  print(\"Total %d User Timeline Tweets collected\" % counter)\r\n",
        "\r\n",
        "dumpTimeline()"
      ],
      "execution_count": 5,
      "outputs": [
        {
          "output_type": "stream",
          "text": [
            "Batch collection of timeline statuses for  XiaomiSupport\n",
            "Total 250 User Timeline Tweets collected\n"
          ],
          "name": "stdout"
        }
      ]
    },
    {
      "cell_type": "code",
      "metadata": {
        "id": "ZcImdS1JJxqL"
      },
      "source": [
        "screen_name = \"XiaomiSupport\"\r\n",
        "\r\n",
        "followers_file = 'followers_XiaomiSupport.json'.format(screen_name)\r\n",
        "\r\n",
        "with open(followers_file) as f:\r\n",
        "\r\n",
        "    reach = []\r\n",
        "\r\n",
        "    for line in f:\r\n",
        "\r\n",
        "      profile = json.loads(line)\r\n",
        "\r\n",
        "      reach.append((profile['screen_name'], profile['followers_count']))"
      ],
      "execution_count": 6,
      "outputs": []
    },
    {
      "cell_type": "code",
      "metadata": {
        "id": "PfmB_0cxJ5yK"
      },
      "source": [
        "profile_file = 'XiaomiProfile.json'.format(screen_name)\r\n",
        "\r\n",
        "with open(profile_file) as f:\r\n",
        "\r\n",
        "    profile = json.load(f)\r\n",
        "\r\n",
        "    followers = profile['followers_count']\r\n",
        "\r\n",
        "    tweets = profile['statuses_count']\r\n",
        "\r\n",
        "sum_reach = sum([x[1] for x in reach])\r\n",
        "\r\n",
        "avg_followers = round(sum_reach / followers, 2)"
      ],
      "execution_count": 7,
      "outputs": []
    },
    {
      "cell_type": "code",
      "metadata": {
        "id": "DyY5NPCuJ9cC"
      },
      "source": [
        "timeline_file = 'user_timeline_XiaomiSupport.json'.format(screen_name)\r\n",
        "\r\n",
        "with open(timeline_file) as f:\r\n",
        "\r\n",
        "    favorite_count, retweet_count = [], []\r\n",
        "\r\n",
        "    for line in f:\r\n",
        "\r\n",
        "        tweet = json.loads(line)\r\n",
        "\r\n",
        "        favorite_count.append(tweet['favorite_count'])\r\n",
        "\r\n",
        "        retweet_count.append(tweet['retweet_count'])"
      ],
      "execution_count": 8,
      "outputs": []
    },
    {
      "cell_type": "code",
      "metadata": {
        "id": "RFtJE-9eKES5"
      },
      "source": [
        "avg_favorite = round(sum(favorite_count) / tweets, 5)\r\n",
        "\r\n",
        "avg_retweet = round(sum(retweet_count) / tweets, 5)\r\n",
        "\r\n",
        "favorite_per_user = round(sum(favorite_count) / followers, 5)\r\n",
        "\r\n",
        "retweet_per_user = round(sum(retweet_count) / followers, 5)"
      ],
      "execution_count": 9,
      "outputs": []
    },
    {
      "cell_type": "code",
      "metadata": {
        "colab": {
          "base_uri": "https://localhost:8080/"
        },
        "id": "iRgoWRdwKGVJ",
        "outputId": "91957e55-90c0-46a6-a7b2-8e622075725a"
      },
      "source": [
        "print(\"{} followers\".format(followers))\r\n",
        "\r\n",
        "print(\"{} users reached by 1-degree connections\".format(sum_reach))\r\n",
        "\r\n",
        "print(\"Average number of {}'s followers: {}\".format(screen_name, avg_followers))\r\n",
        "\r\n",
        "print(\"Favorited {} times ({} per tweet, {} per user)\".format(sum(favorite_count), avg_favorite, favorite_per_user))\r\n",
        "\r\n",
        "print(\"Retweeted {} times ({} per tweet, {} per user)\".format(sum(retweet_count), avg_retweet, retweet_per_user))"
      ],
      "execution_count": 10,
      "outputs": [
        {
          "output_type": "stream",
          "text": [
            "4718 followers\n",
            "218744 users reached by 1-degree connections\n",
            "Average number of XiaomiSupport's followers: 46.36\n",
            "Favorited 2478 times (5.63182 per tweet, 0.52522 per user)\n",
            "Retweeted 372 times (0.84545 per tweet, 0.07885 per user)\n"
          ],
          "name": "stdout"
        }
      ]
    },
    {
      "cell_type": "code",
      "metadata": {
        "id": "yHn1cGH-KIQQ"
      },
      "source": [
        ""
      ],
      "execution_count": null,
      "outputs": []
    }
  ]
}