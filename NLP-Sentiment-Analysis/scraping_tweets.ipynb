{
 "cells": [
  {
   "cell_type": "code",
   "execution_count": 1,
   "id": "88060ada-a853-4c83-8b6a-de8af79018a5",
   "metadata": {},
   "outputs": [],
   "source": [
    "# Importing Libaries\n",
    "import re\n",
    "import unicodedata\n",
    "import tweepy\n",
    "import pandas as pd"
   ]
  },
  {
   "cell_type": "code",
   "execution_count": 2,
   "id": "5c2dc3ce-8f89-425f-9ecf-599792a9a6d2",
   "metadata": {},
   "outputs": [],
   "source": [
    "# Set up your Twitter API credentials\n",
    "consumer_key = ''\n",
    "consumer_secret = ''\n",
    "access_token = ''\n",
    "access_token_secret = ''"
   ]
  },
  {
   "cell_type": "code",
   "execution_count": 3,
   "id": "3092f0d7-3a7a-4b66-b5ae-9c338e43958f",
   "metadata": {},
   "outputs": [],
   "source": [
    "# Authenticate with Twitter API\n",
    "auth = tweepy.OAuthHandler(consumer_key, consumer_secret)\n",
    "auth.set_access_token(access_token, access_token_secret)\n",
    "\n",
    "# Create an API object\n",
    "api = tweepy.API(auth, wait_on_rate_limit=True)\n",
    "\n",
    "# No of tweets to scrape\n",
    "num_tweets = 1000"
   ]
  },
  {
   "cell_type": "code",
   "execution_count": 4,
   "id": "7a7cf36e-45a7-44b7-af1c-67182d5443e3",
   "metadata": {
    "tags": []
   },
   "outputs": [],
   "source": [
    "# Function to scrape user tweets\n",
    "def scrape_user_tweets(usernames, num_tweets):\n",
    "    \"\"\"Scrapes user tweets from twitter based on the provided entities\n",
    "    \"\"\"\n",
    "    \n",
    "    tweets = []\n",
    "    for username in usernames:\n",
    "        user_tweets = tweepy.Cursor(api.user_timeline, screen_name=username, tweet_mode=\"extended\").items(num_tweets)\n",
    "        for tweet in user_tweets:\n",
    "            # Fetching reply count\n",
    "            status = api.get_status(tweet.id)\n",
    "            reply_count = status.reply_count if hasattr(status, \"reply_count\") else 0\n",
    "            \n",
    "            data = {\n",
    "                'Tweet': tweet.full_text if hasattr(tweet, \"full_text\") else tweet.text,\n",
    "                'Date': tweet.created_at.date(),\n",
    "                'Time': tweet.created_at.time(),\n",
    "                'Twitter Handle': tweet.user.screen_name\n",
    "            }\n",
    "            tweets.append(data)\n",
    "    return tweets\n",
    "\n",
    "# Function to scrape hashtag tweets\n",
    "def scrape_hashtag_tweets(hashtags, num_tweets):\n",
    "    \"\"\"Scrapes based on the hastag tweets \n",
    "    \"\"\"\n",
    "    \n",
    "    tweets = []\n",
    "    for hashtag in hashtags:\n",
    "        hashtag_tweets = tweepy.Cursor(api.search_tweets, q=hashtag, lang=\"en\", tweet_mode=\"extended\").items(num_tweets)\n",
    "        for tweet in hashtag_tweets:\n",
    "            # Fetching reply count\n",
    "            status = api.get_status(tweet.id)\n",
    "            reply_count = status.reply_count if hasattr(status, \"reply_count\") else 0\n",
    "            \n",
    "            data = {\n",
    "                'Tweet': tweet.full_text if hasattr(tweet, \"full_text\") else tweet.text,\n",
    "                'Date': tweet.created_at.date(),\n",
    "                'Time': tweet.created_at.time(),\n",
    "                'User Name': tweet.user.name,\n",
    "                'Twitter Handle': tweet.user.screen_name,\n",
    "                'Location': tweet.user.location,\n",
    "                'Followers Count': tweet.user.followers_count,\n",
    "                'Following Count': tweet.user.friends_count,\n",
    "                'Profile URL': tweet.user.url,\n",
    "                'Profile Image URL': tweet.user.profile_image_url,\n",
    "                'Profile Banner URL': tweet.user.profile_banner_url if 'profile_banner_url' in dir(tweet.user) else None,\n",
    "                'Account Creation Date': tweet.user.created_at.date(),\n",
    "                'Retweet Count': tweet.retweet_count,\n",
    "                'Favorite Count': tweet.favorite_count,\n",
    "                'Reply Count': reply_count,\n",
    "                'Hashtags': [hashtag['text'] for hashtag in tweet.entities['hashtags']],\n",
    "                'User Mentions': [mention['screen_name'] for mention in tweet.entities['user_mentions']],\n",
    "                'Media URLs': [media['media_url'] for media in tweet.entities.get('media', [])],\n",
    "                'Tweet URL': f\"https://twitter.com/{tweet.user.screen_name}/status/{tweet.id}\",\n",
    "                'Coordinates': tweet.coordinates,\n",
    "                'Language': tweet.lang,\n",
    "                'Source': tweet.source,\n",
    "                'Is Retweet': hasattr(tweet, 'retweeted_status'),\n",
    "                'Is Quote Status': hasattr(tweet, 'quoted_status'),\n",
    "                'Quoted Status': tweet.quoted_status.full_text if hasattr(tweet, 'quoted_status') else None,\n",
    "                'In Reply To User': tweet.in_reply_to_screen_name,\n",
    "                'Place': tweet.place.full_name if tweet.place else None,\n",
    "                'Entities': tweet.entities,\n",
    "                'Is Verified User': tweet.user.verified,\n",
    "                'Is Retweeted': tweet.retweeted,\n",
    "                'Is Favorited': tweet.favorited\n",
    "            }\n",
    "            tweets.append(data)\n",
    "            \n",
    "    return tweets"
   ]
  },
  {
   "cell_type": "code",
   "execution_count": 5,
   "id": "a034bfb4-bbdc-4f44-90bd-5a6f27fb04a8",
   "metadata": {
    "collapsed": true,
    "jupyter": {
     "outputs_hidden": true
    },
    "tags": []
   },
   "outputs": [
    {
     "name": "stderr",
     "output_type": "stream",
     "text": [
      "Rate limit reached. Sleeping for: 491\n",
      "Rate limit reached. Sleeping for: 587\n",
      "Rate limit reached. Sleeping for: 596\n",
      "Rate limit reached. Sleeping for: 595\n",
      "Rate limit reached. Sleeping for: 600\n",
      "Rate limit reached. Sleeping for: 603\n",
      "Rate limit reached. Sleeping for: 600\n",
      "Rate limit reached. Sleeping for: 585\n",
      "Rate limit reached. Sleeping for: 579\n",
      "Rate limit reached. Sleeping for: 585\n",
      "Rate limit reached. Sleeping for: 587\n"
     ]
    }
   ],
   "source": [
    "# Define the target users and hashtags to scrape\n",
    "target_users = [\"LloydsBank\", \"MyMaybank\", \"ZenithBank\", \"NatWest_Help\", \"Nedbank\", \"talktoBOI\"]\n",
    "hashtags = [\"LloydsBank\", \"Maybank\", \"ZenithBank\", \"Natwest\", \"Nedbank\", \"BankOfIreland\"]\n",
    "\n",
    "# Scrape tweets from target users\n",
    "user_tweets = scrape_user_tweets(target_users, num_tweets)\n",
    "\n",
    "# Convert user tweets to a dataframe\n",
    "user_tweets_df = pd.DataFrame(user_tweets)\n",
    "\n",
    "# Scrape tweets with hashtags\n",
    "hashtag_tweets = scrape_hashtag_tweets(hashtags, num_tweets)\n",
    "\n",
    "# Convert hashtag tweets to a dataframe\n",
    "hashtag_tweets_df = pd.DataFrame(hashtag_tweets)"
   ]
  },
  {
   "cell_type": "code",
   "execution_count": 8,
   "id": "d589f330-119b-4ab4-8977-8f0e6ce4540e",
   "metadata": {},
   "outputs": [],
   "source": [
    "user_tweets_df.to_csv('user_tweets.csv', index=False)"
   ]
  },
  {
   "cell_type": "code",
   "execution_count": 9,
   "id": "2589fa43-d99c-479a-a782-d48f97af3485",
   "metadata": {},
   "outputs": [],
   "source": [
    "hashtag_tweets_df.to_csv('user_hashtag.csv', index=False)"
   ]
  },
  {
   "cell_type": "code",
   "execution_count": null,
   "id": "d4496e37-42d1-4201-991d-d6a0a048eb52",
   "metadata": {},
   "outputs": [],
   "source": []
  },
  {
   "cell_type": "code",
   "execution_count": null,
   "id": "d7681cdc-4794-4e21-97f8-fe85ace83846",
   "metadata": {},
   "outputs": [],
   "source": []
  }
 ],
 "metadata": {
  "kernelspec": {
   "display_name": "Python 3",
   "language": "python",
   "name": "python3"
  },
  "language_info": {
   "codemirror_mode": {
    "name": "ipython",
    "version": 3
   },
   "file_extension": ".py",
   "mimetype": "text/x-python",
   "name": "python",
   "nbconvert_exporter": "python",
   "pygments_lexer": "ipython3",
   "version": "3.9.13"
  }
 },
 "nbformat": 4,
 "nbformat_minor": 5
}
