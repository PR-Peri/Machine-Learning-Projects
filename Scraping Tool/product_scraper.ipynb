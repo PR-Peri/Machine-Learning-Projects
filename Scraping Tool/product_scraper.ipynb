{
 "cells": [
  {
   "cell_type": "markdown",
   "id": "cb05fa4c-d1cb-4762-9d23-eef409f9de59",
   "metadata": {
    "jp-MarkdownHeadingCollapsed": true,
    "tags": []
   },
   "source": [
    "## SCRAPING TOOL\n",
    "The goal is to automate the manual process of scraping by automating the collection of product media (images and videos) for items available on the H&M website.\n",
    "\n",
    "<li> The script allows all the product media to be easily obtained without having to manually access or open the website. </li>\n",
    "<li> All media are placed into different subfolders of items. </li>\n",
    "<br></br>\n",
    "\n",
    "<b> Reason for choosing Selenium: </b>\n",
    "<br>\n",
    "<p> Selenium is considered one of the best choices for scraping data from the H&M website for several reasons. Firstly, the H&M website is primarily built using JavaScript, which can make it difficult to scrape with traditional scraping tools. However, Selenium is capable of executing JavaScript code on a website, making it ideal for scraping dynamic websites like H&M.\n",
    "\n",
    "Secondly, Selenium provides a high level of automation, which is particularly useful when scraping large amounts of data from a website. With Selenium, you can automate the process of navigating to specific web pages, interacting with various elements, and extracting the desired data, all without manual intervention.\n",
    "\n",
    "Lastly, Selenium offers a wide range of programming language support, making it accessible to developers with various programming backgrounds. This flexibility allows developers to choose a programming language that they are most comfortable with, making it easier to write and maintain the scraping code. </p>\n",
    "\n"
   ]
  },
  {
   "cell_type": "markdown",
   "id": "ce27c9c3-c232-4a1a-8369-c6b6c6e93e07",
   "metadata": {},
   "source": [
    "## Importing Libaries"
   ]
  },
  {
   "cell_type": "code",
   "execution_count": 1,
   "id": "e72aebc4-4dea-4fbe-81c7-3f041fde18c6",
   "metadata": {},
   "outputs": [],
   "source": [
    "import csv\n",
    "import os\n",
    "import re\n",
    "import urllib.request\n",
    "import pandas as pd\n",
    "from selenium import webdriver\n",
    "from selenium.webdriver.chrome.service import Service\n",
    "from selenium.webdriver.common.by import By\n",
    "from selenium.webdriver.support.ui import WebDriverWait\n",
    "from selenium.webdriver.support import expected_conditions as EC"
   ]
  },
  {
   "cell_type": "markdown",
   "id": "315d3004-7444-4455-8b03-5c7931f1221c",
   "metadata": {},
   "source": [
    "## Helper Functions"
   ]
  },
  {
   "cell_type": "code",
   "execution_count": 2,
   "id": "2585855a-3be4-4c64-8e38-f01c82e1d417",
   "metadata": {},
   "outputs": [],
   "source": [
    "def reading_data_into_dataframe(prod_dataset):\n",
    "    \"\"\"\n",
    "    Reading dataset into dataframe\n",
    "    \"\"\"\n",
    "    \n",
    "    prod_data = pd.read_excel(prod_dataset, usecols=[0, 1, 2]) #Reads the dataset into pandas dataframe\n",
    "    \n",
    "    prod_code = prod_data['Article Number'].dropna().astype(int).astype(str).tolist() #Converts datatype \n",
    "    prod_name = prod_data['Product Name'].dropna().tolist()\n",
    "    prod_color = prod_data['Color'].dropna().tolist()\n",
    "    \n",
    "    prod_data = pd.DataFrame(list(zip(prod_code, prod_name, prod_color )), columns =['prod_code', 'prod_name', 'prod_color'])\n",
    "    \n",
    "    return prod_data, prod_code"
   ]
  },
  {
   "cell_type": "code",
   "execution_count": 3,
   "id": "89e68cf8-25d0-4007-a563-c300bf1540c4",
   "metadata": {},
   "outputs": [],
   "source": [
    "def get_len_prod_code(article_code):\n",
    "    \"\"\"\n",
    "    Checking product code length\n",
    "    \"\"\"\n",
    "    return len(str(article_code))"
   ]
  },
  {
   "cell_type": "code",
   "execution_count": 4,
   "id": "03964e02-7624-49bd-a9bb-988c75589dc9",
   "metadata": {},
   "outputs": [],
   "source": [
    "def adjust_prod_code(article_code_lesser):\n",
    "    \"\"\"\n",
    "    If the product code has problem running the url for any articles with length '9'\n",
    "    this module can be used to change the format to add '0' and make the length to '10'\n",
    "    \"\"\"\n",
    "    if len(str(article_code_lesser)) == 9:\n",
    "           return '0' + article_code_lesser \n",
    "    else:\n",
    "           return article_code_lesser\n",
    "    "
   ]
  },
  {
   "cell_type": "code",
   "execution_count": 5,
   "id": "e59d49ab-c6ef-4c75-baeb-45f4d911f834",
   "metadata": {},
   "outputs": [],
   "source": [
    "def scrape_product_images(product_codes):\n",
    "    \"\"\"\n",
    "    Scrapes all the product media (images and video) into local directory\n",
    "    \"\"\"\n",
    "    \n",
    "    # Create a directory for the output files\n",
    "    os.makedirs(\"output\", exist_ok=True)\n",
    "    \n",
    "    for product_code in product_codes:\n",
    "        \n",
    "        try:\n",
    "            product_code = str(product_code)\n",
    "            # Format the product URL based on the product code\n",
    "            product_url = f\"https://www2.hm.com/en_my/productpage.{product_code}.html\"        \n",
    "            # Create a directory for the product code\n",
    "            os.makedirs(f\"output/{product_code}\", exist_ok=True)\n",
    "\n",
    "            # Initialize the webdriver\n",
    "            service = Service('/path/to/chromedriver')\n",
    "            driver = webdriver.Chrome(service=service)\n",
    "            driver.get(product_url)\n",
    "\n",
    "            # Wait for the images to load\n",
    "            wait = WebDriverWait(driver, 10)\n",
    "            wait.until(EC.presence_of_all_elements_located((By.CSS_SELECTOR, '.product-detail-main-image-container img, .pdp-secondary-image img')))\n",
    "\n",
    "            # Get the image sources\n",
    "            images = driver.find_elements(By.CSS_SELECTOR, '.product-detail-main-image-container img, .pdp-secondary-image img')\n",
    "            image_sources = [re.sub('^//', 'https://', image.get_attribute('src')) for image in images]\n",
    "\n",
    "            # Download and save the images into the directory\n",
    "            for i, image_source in enumerate(image_sources):\n",
    "                filename = f\"output/{product_code}/image_{i+1}.jpg\"\n",
    "                urllib.request.urlretrieve(image_source, filename)\n",
    "                \n",
    "            print(f'Images for product code {product_code} downloaded successfully.')\n",
    "            \n",
    "        except Exception as e:\n",
    "            \n",
    "            print(f'Error downloading images for product code {product_code}: {str(e)}')\n",
    "            \n",
    "        # Quit the webdriver\n",
    "        driver.quit()\n"
   ]
  },
  {
   "cell_type": "markdown",
   "id": "4bcd3a4f-6184-4b69-b879-07890d519792",
   "metadata": {},
   "source": [
    "## Main Script "
   ]
  },
  {
   "cell_type": "code",
   "execution_count": 6,
   "id": "507c9362-ec4b-4429-a66d-21546f8e1e29",
   "metadata": {},
   "outputs": [],
   "source": [
    "#READS THE DATA INTO DATAFRAME AND EXTRACTS THE PRODUCT CODE INTO LIST\n",
    "product_data, product_code = reading_data_into_dataframe('data.xlsx')"
   ]
  },
  {
   "cell_type": "code",
   "execution_count": 7,
   "id": "6b66875b-f7cb-4d07-adca-f81cf6d13323",
   "metadata": {},
   "outputs": [],
   "source": [
    "#GENERATES A NEW COLUMN TO CHECK LENGTH OF PRODUCT CODE\n",
    "product_data['prod_code_len'] = product_data['prod_code'].apply(get_len_prod_code)"
   ]
  },
  {
   "cell_type": "code",
   "execution_count": 8,
   "id": "fa778e49-9953-4a6c-aaed-79adc22847f9",
   "metadata": {},
   "outputs": [
    {
     "data": {
      "text/plain": [
       "10    61\n",
       "9     17\n",
       "Name: prod_code_len, dtype: int64"
      ]
     },
     "execution_count": 8,
     "metadata": {},
     "output_type": "execute_result"
    }
   ],
   "source": [
    "#CHECKS LENGTH OF THE PRODUCT CODE\n",
    "product_data.prod_code_len.value_counts()"
   ]
  },
  {
   "cell_type": "code",
   "execution_count": 9,
   "id": "e12322e3-688e-4249-a651-d9b6d16be32c",
   "metadata": {},
   "outputs": [],
   "source": [
    "#APPLIES '0' TO STANDARDIZE THE STRING LENGTH\n",
    "product_data['prod_code_updated'] = product_data['prod_code'].apply(adjust_prod_code)"
   ]
  },
  {
   "cell_type": "code",
   "execution_count": 10,
   "id": "bc5b9903-77de-491a-88fb-4fc15127e68a",
   "metadata": {},
   "outputs": [],
   "source": [
    "#WE USE THIS ONLY IF THE URL HAS PROBLEM\n",
    "updated_product_code = product_data['prod_code_updated'].tolist()"
   ]
  },
  {
   "cell_type": "code",
   "execution_count": 11,
   "id": "027b7117-e3dd-4f39-aebc-8a88cf9f5dc4",
   "metadata": {
    "tags": []
   },
   "outputs": [
    {
     "name": "stdout",
     "output_type": "stream",
     "text": [
      "Images for product code 0684021184 downloaded successfully.\n",
      "Images for product code 0685816182 downloaded successfully.\n",
      "Images for product code 0751471072 downloaded successfully.\n",
      "Images for product code 0751471094 downloaded successfully.\n",
      "Images for product code 0751471096 downloaded successfully.\n",
      "Images for product code 0751471097 downloaded successfully.\n",
      "Images for product code 0763275050 downloaded successfully.\n",
      "Images for product code 0928133041 downloaded successfully.\n",
      "Images for product code 0930126068 downloaded successfully.\n",
      "Images for product code 0932232024 downloaded successfully.\n",
      "Images for product code 0941811012 downloaded successfully.\n",
      "Images for product code 0956308014 downloaded successfully.\n",
      "Error downloading images for product code 0970818051: Message: \n",
      "\n",
      "Images for product code 0970819054 downloaded successfully.\n",
      "Images for product code 0970819060 downloaded successfully.\n",
      "Images for product code 0973277037 downloaded successfully.\n",
      "Images for product code 0990413001 downloaded successfully.\n",
      "Images for product code 1009953012 downloaded successfully.\n",
      "Error downloading images for product code 1009953017: Message: \n",
      "\n",
      "Error downloading images for product code 1025932014: Message: \n",
      "\n",
      "Images for product code 1028144007 downloaded successfully.\n",
      "Images for product code 1031523001 downloaded successfully.\n",
      "Error downloading images for product code 1053664001: Message: \n",
      "\n",
      "Images for product code 1062687008 downloaded successfully.\n",
      "Images for product code 1062687016 downloaded successfully.\n",
      "Images for product code 1074658001 downloaded successfully.\n",
      "Images for product code 1074658002 downloaded successfully.\n",
      "Images for product code 1074658008 downloaded successfully.\n",
      "Images for product code 1087578001 downloaded successfully.\n",
      "Images for product code 1103388006 downloaded successfully.\n",
      "Error downloading images for product code 1107360014: Message: \n",
      "\n",
      "Images for product code 1107360015 downloaded successfully.\n",
      "Images for product code 1114496001 downloaded successfully.\n",
      "Images for product code 1117893002 downloaded successfully.\n",
      "Images for product code 1117893003 downloaded successfully.\n",
      "Images for product code 1118512004 downloaded successfully.\n",
      "Images for product code 1119684006 downloaded successfully.\n",
      "Images for product code 1119684030 downloaded successfully.\n",
      "Error downloading images for product code 1119685001: Message: \n",
      "\n",
      "Error downloading images for product code 1119685003: Message: \n",
      "\n",
      "Images for product code 1121404003 downloaded successfully.\n",
      "Images for product code 1121412001 downloaded successfully.\n",
      "Images for product code 1121497001 downloaded successfully.\n",
      "Images for product code 1122404001 downloaded successfully.\n",
      "Images for product code 1123017002 downloaded successfully.\n",
      "Images for product code 1123827001 downloaded successfully.\n",
      "Images for product code 1123827002 downloaded successfully.\n",
      "Images for product code 1123830001 downloaded successfully.\n",
      "Images for product code 1123830002 downloaded successfully.\n",
      "Images for product code 1123832001 downloaded successfully.\n",
      "Images for product code 1123832002 downloaded successfully.\n",
      "Images for product code 1126584010 downloaded successfully.\n",
      "Images for product code 1130192002 downloaded successfully.\n",
      "Images for product code 1131767001 downloaded successfully.\n",
      "Images for product code 1131767002 downloaded successfully.\n",
      "Images for product code 1131767003 downloaded successfully.\n",
      "Images for product code 1134536001 downloaded successfully.\n",
      "Images for product code 1134536002 downloaded successfully.\n",
      "Images for product code 1136132002 downloaded successfully.\n",
      "Images for product code 1136132006 downloaded successfully.\n",
      "Images for product code 1136236001 downloaded successfully.\n",
      "Images for product code 1136236003 downloaded successfully.\n",
      "Images for product code 1136236004 downloaded successfully.\n",
      "Images for product code 1141184001 downloaded successfully.\n",
      "Images for product code 1141498001 downloaded successfully.\n",
      "Images for product code 1143864001 downloaded successfully.\n",
      "Images for product code 1144078001 downloaded successfully.\n",
      "Images for product code 1144078002 downloaded successfully.\n",
      "Images for product code 1144078003 downloaded successfully.\n",
      "Images for product code 1144936001 downloaded successfully.\n",
      "Error downloading images for product code 1150469003: Message: \n",
      "\n",
      "Images for product code 1151964003 downloaded successfully.\n",
      "Images for product code 1154640001 downloaded successfully.\n",
      "Images for product code 1154640002 downloaded successfully.\n",
      "Images for product code 1154640003 downloaded successfully.\n",
      "Images for product code 1154660001 downloaded successfully.\n",
      "Images for product code 1159618003 downloaded successfully.\n",
      "Images for product code 1159618004 downloaded successfully.\n"
     ]
    }
   ],
   "source": [
    "#RUNS THE SCRAPING MODULE AND SAVES FINAL OUTPUT TO LOCAL DIRECTORY\n",
    "scraper = scrape_product_images(updated_product_code)"
   ]
  },
  {
   "cell_type": "code",
   "execution_count": null,
   "id": "419c0b42-94a1-495f-977a-b78993537d75",
   "metadata": {},
   "outputs": [],
   "source": []
  }
 ],
 "metadata": {
  "kernelspec": {
   "display_name": "Python 3",
   "language": "python",
   "name": "python3"
  },
  "language_info": {
   "codemirror_mode": {
    "name": "ipython",
    "version": 3
   },
   "file_extension": ".py",
   "mimetype": "text/x-python",
   "name": "python",
   "nbconvert_exporter": "python",
   "pygments_lexer": "ipython3",
   "version": "3.9.13"
  }
 },
 "nbformat": 4,
 "nbformat_minor": 5
}
