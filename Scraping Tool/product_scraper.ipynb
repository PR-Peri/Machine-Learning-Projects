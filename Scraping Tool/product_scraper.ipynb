{
 "cells": [
  {
   "cell_type": "markdown",
   "id": "cb05fa4c-d1cb-4762-9d23-eef409f9de59",
   "metadata": {
    "jp-MarkdownHeadingCollapsed": true,
    "tags": []
   },
   "source": [
    "## SCRAPING TOOL\n",
    "The goal is to automate the manual process of scraping by automating the collection of product media (images and videos) for items available on the H&M website.\n",
    "\n",
    "<li> The script allows all the product media to be easily obtained without having to manually access or open the website. </li>\n",
    "<li> All media are placed into different subfolders of items. </li>\n",
    "<br></br>\n",
    "\n",
    "<b> Reason for choosing Selenium: </b>\n",
    "<br>\n",
    "<p> Selenium is considered one of the best choices for scraping data from the H&M website for several reasons. Firstly, the H&M website is primarily built using JavaScript, which can make it difficult to scrape with traditional scraping tools. However, Selenium is capable of executing JavaScript code on a website, making it ideal for scraping dynamic websites like H&M.\n",
    "\n",
    "Secondly, Selenium provides a high level of automation, which is particularly useful when scraping large amounts of data from a website. With Selenium, you can automate the process of navigating to specific web pages, interacting with various elements, and extracting the desired data, all without manual intervention.\n",
    "\n",
    "Lastly, Selenium offers a wide range of programming language support, making it accessible to developers with various programming backgrounds. This flexibility allows developers to choose a programming language that they are most comfortable with, making it easier to write and maintain the scraping code. </p>\n",
    "\n"
   ]
  },
  {
   "cell_type": "markdown",
   "id": "ce27c9c3-c232-4a1a-8369-c6b6c6e93e07",
   "metadata": {},
   "source": [
    "## Importing Libaries"
   ]
  },
  {
   "cell_type": "code",
   "execution_count": 1,
   "id": "e72aebc4-4dea-4fbe-81c7-3f041fde18c6",
   "metadata": {},
   "outputs": [],
   "source": [
    "import csv\n",
    "import os\n",
    "import re\n",
    "import urllib.request\n",
    "import pandas as pd\n",
    "from selenium import webdriver\n",
    "from selenium.webdriver.common.by import By\n",
    "from selenium.webdriver.support.ui import WebDriverWait\n",
    "from selenium.webdriver.support import expected_conditions as EC"
   ]
  },
  {
   "cell_type": "markdown",
   "id": "315d3004-7444-4455-8b03-5c7931f1221c",
   "metadata": {},
   "source": [
    "## Helper Functions"
   ]
  },
  {
   "cell_type": "code",
   "execution_count": 2,
   "id": "2585855a-3be4-4c64-8e38-f01c82e1d417",
   "metadata": {},
   "outputs": [],
   "source": [
    "def reading_data_into_dataframe(prod_dataset):\n",
    "    \"\"\"\n",
    "    Reading dataset into dataframe\n",
    "    \"\"\"\n",
    "    \n",
    "    prod_data = pd.read_excel(prod_dataset, usecols=[0, 1, 2]) #Reads the dataset into pandas dataframe\n",
    "    \n",
    "    prod_code = prod_data['Article Number'].dropna().astype(int).astype(str).tolist() #Converts datatype \n",
    "    prod_name = prod_data['Product Name'].dropna().tolist()\n",
    "    prod_color = prod_data['Color'].dropna().tolist()\n",
    "    \n",
    "    prod_data = pd.DataFrame(list(zip(prod_code, prod_name, prod_color )), columns =['prod_code', 'prod_name', 'prod_color'])\n",
    "    \n",
    "    return prod_data, prod_code"
   ]
  },
  {
   "cell_type": "code",
   "execution_count": 3,
   "id": "89e68cf8-25d0-4007-a563-c300bf1540c4",
   "metadata": {},
   "outputs": [],
   "source": [
    "def get_len_prod_code(article_code):\n",
    "    \"\"\"\n",
    "    Checking product code length\n",
    "    \"\"\"\n",
    "    return len(str(article_code))"
   ]
  },
  {
   "cell_type": "code",
   "execution_count": 4,
   "id": "03964e02-7624-49bd-a9bb-988c75589dc9",
   "metadata": {},
   "outputs": [],
   "source": [
    "def adjust_prod_code(article_code_lesser):\n",
    "    \"\"\"\n",
    "    If the product code has problem running the url for any articles with length '9'\n",
    "    this module can be used to change the format to add '0' and make the length to '10'\n",
    "    \"\"\"\n",
    "    if len(str(article_code_lesser)) == 9:\n",
    "           return '0' + article_code_lesser \n",
    "    else:\n",
    "           return article_code_lesser\n",
    "    "
   ]
  },
  {
   "cell_type": "code",
   "execution_count": 5,
   "id": "e59d49ab-c6ef-4c75-baeb-45f4d911f834",
   "metadata": {},
   "outputs": [],
   "source": [
    "def scrape_product_images(product_codes):\n",
    "    \"\"\"\n",
    "    Scrapes all the product media (images and video) into local directory\n",
    "    \"\"\"\n",
    "    \n",
    "    for product_code in product_codes:\n",
    "        product_code = str(product_code) #Converts the code from float to string\n",
    "        \n",
    "        # Format the product URL based on the product code\n",
    "        product_url = f\"https://www2.hm.com/en_my/productpage.{product_code}.html\"     \n",
    "        print(product_url) \n",
    "        \n",
    "        os.makedirs(product_code, exist_ok=True) #Create a directory for the product code\n",
    "        \n",
    "        # Initialize the webdriver\n",
    "        options = webdriver.ChromeOptions()\n",
    "        options.add_argument('--ignore-certificate-errors')\n",
    "        options.add_argument('--incognito')\n",
    "        options.add_argument('--headless')\n",
    "        driver = webdriver.Chrome(options=options)\n",
    "        driver.get(product_url)\n",
    "        \n",
    "        # Wait for the images to load\n",
    "        wait = WebDriverWait(driver, 10)\n",
    "        wait.until(EC.presence_of_all_elements_located((By.CSS_SELECTOR, '.product-detail-main-image-container img, .pdp-secondary-image img')))\n",
    "        \n",
    "        # Get the image sources from the browser\n",
    "        images = driver.find_elements(By.CSS_SELECTOR, '.product-detail-main-image-container img, .pdp-secondary-image img')\n",
    "        image_sources = [re.sub('^//', 'https://', image.get_attribute('src')) for image in images] #Formats the url\n",
    "        \n",
    "        # Download and save the images into the directory\n",
    "        for i, image_source in enumerate(image_sources):\n",
    "            filename = f\"{product_code}/image_{i+1}.jpg\"\n",
    "            urllib.request.urlretrieve(image_source, filename)\n",
    "        \n",
    "        #Quit the webdriver\n",
    "        driver.quit()\n",
    "        \n",
    "        # print(f'Images for product code {product_code} downloaded successfully.')\n"
   ]
  },
  {
   "cell_type": "markdown",
   "id": "4bcd3a4f-6184-4b69-b879-07890d519792",
   "metadata": {},
   "source": [
    "## Main Script "
   ]
  },
  {
   "cell_type": "code",
   "execution_count": 6,
   "id": "507c9362-ec4b-4429-a66d-21546f8e1e29",
   "metadata": {},
   "outputs": [],
   "source": [
    "#READS THE DATA INTO DATAFRAME AND EXTRACTS THE PRODUCT CODE INTO LIST\n",
    "product_data, product_code = reading_data_into_dataframe('data.xlsx')"
   ]
  },
  {
   "cell_type": "code",
   "execution_count": 7,
   "id": "6b66875b-f7cb-4d07-adca-f81cf6d13323",
   "metadata": {},
   "outputs": [],
   "source": [
    "#GENERATES A NEW COLUMN TO CHECK LENGTH OF PRODUCT CODE\n",
    "product_data['prod_code_len'] = product_data['prod_code'].apply(get_len_prod_code)"
   ]
  },
  {
   "cell_type": "code",
   "execution_count": 8,
   "id": "fa778e49-9953-4a6c-aaed-79adc22847f9",
   "metadata": {},
   "outputs": [
    {
     "data": {
      "text/plain": [
       "10    61\n",
       "9     17\n",
       "Name: prod_code_len, dtype: int64"
      ]
     },
     "execution_count": 8,
     "metadata": {},
     "output_type": "execute_result"
    }
   ],
   "source": [
    "#CHECKS LENGTH OF THE PRODUCT CODE\n",
    "product_data.prod_code_len.value_counts()"
   ]
  },
  {
   "cell_type": "code",
   "execution_count": 9,
   "id": "e12322e3-688e-4249-a651-d9b6d16be32c",
   "metadata": {},
   "outputs": [],
   "source": [
    "#APPLIES '0' TO STANDARDIZE THE STRING LENGTH\n",
    "product_data['prod_code_updated'] = product_data['prod_code'].apply(adjust_prod_code)"
   ]
  },
  {
   "cell_type": "code",
   "execution_count": 10,
   "id": "bc5b9903-77de-491a-88fb-4fc15127e68a",
   "metadata": {},
   "outputs": [],
   "source": [
    "#WE USE THIS ONLY IF THE URL HAS PROBLEM\n",
    "updated_product_code = product_data['prod_code_updated'].tolist()"
   ]
  },
  {
   "cell_type": "code",
   "execution_count": 11,
   "id": "027b7117-e3dd-4f39-aebc-8a88cf9f5dc4",
   "metadata": {
    "tags": []
   },
   "outputs": [],
   "source": [
    "scraper = scrape_product_images(product_code)"
   ]
  },
  {
   "cell_type": "code",
   "execution_count": null,
   "id": "2e102390-4830-4df4-96fe-742ea769c443",
   "metadata": {},
   "outputs": [],
   "source": []
  }
 ],
 "metadata": {
  "kernelspec": {
   "display_name": "Python 3",
   "language": "python",
   "name": "python3"
  },
  "language_info": {
   "codemirror_mode": {
    "name": "ipython",
    "version": 3
   },
   "file_extension": ".py",
   "mimetype": "text/x-python",
   "name": "python",
   "nbconvert_exporter": "python",
   "pygments_lexer": "ipython3",
   "version": "3.9.13"
  }
 },
 "nbformat": 4,
 "nbformat_minor": 5
}
