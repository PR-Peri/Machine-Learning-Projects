{
 "cells": [
  {
   "cell_type": "markdown",
   "id": "584f8b3b-59a8-4937-9960-2c6bfea2a36c",
   "metadata": {},
   "source": [
    "##### Data Preprocessing\n",
    "In this step, we'll perform various data preprocessing tasks such as removing duplicates, handling missing values, encoding categorical variables, etc.\n",
    "\n",
    "##### Data Visualization\n",
    "We will chart to visualize the dataset and identify patterns in the data.\n",
    "\n",
    "##### Feature Selection\n",
    "We will use PCA for dimension reductionality\n",
    "\n",
    "##### Split the Data into Training and Testing sets\n",
    "We will use train_test_split function to split the dataset into training and testing sets.\n",
    "\n",
    "##### Model Selection and Training\n",
    "We will select a machine learning algorithm and train the model using the training dataset.\n",
    "\n",
    "##### Model Evaluation\n",
    "In this step, we will evaluate the performance of the trained model using various evaluation metrics such as accuracy, precision, recall, F1 score, etc.\n",
    "\n",
    "##### Model Tuning\n",
    "If the model performance is not satisfactory, we can tune the model's hyperparameters using  Grid Search.\n",
    "\n",
    "##### Final Model Selection and Deployment\n",
    "After tuning the model, we can use the test sets to deploy the model."
   ]
  },
  {
   "cell_type": "markdown",
   "id": "93607589-2297-4cb3-ae37-01402f90c8d5",
   "metadata": {},
   "source": [
    "## Importing Libraries"
   ]
  },
  {
   "cell_type": "code",
   "execution_count": 1,
   "id": "a6f73266-547f-4295-8036-65f1a4318160",
   "metadata": {},
   "outputs": [],
   "source": [
    "import numpy as np\n",
    "import pandas as pd\n",
    "import matplotlib.pyplot as plt\n",
    "\n",
    "from sklearn.model_selection import train_test_split\n",
    "from sklearn.preprocessing import StandardScaler\n",
    "from sklearn.preprocessing import Binarizer\n",
    "from sklearn.decomposition import PCA\n",
    "\n",
    "from sklearn.ensemble import RandomForestClassifier\n",
    "from sklearn.linear_model import LogisticRegression\n",
    "from sklearn.naive_bayes import GaussianNB\n",
    "from sklearn.model_selection import GridSearchCV\n",
    "from sklearn.metrics import accuracy_score, precision_score, recall_score, f1_score, roc_auc_score\n",
    "\n",
    "pd.set_option('display.max_columns', None)"
   ]
  },
  {
   "cell_type": "markdown",
   "id": "74f76ea4-fab2-4fb1-b827-309e0fba0123",
   "metadata": {},
   "source": [
    "## Global Variables"
   ]
  },
  {
   "cell_type": "code",
   "execution_count": 31,
   "id": "1fc7172f-8f5e-443a-a330-5349f39ac0de",
   "metadata": {},
   "outputs": [],
   "source": [
    "TRAIN_DF = 'aps_failure_training_set.csv'\n",
    "TEST_DF = 'aps_failure_test_set.csv'\n",
    "\n",
    "model_list  = []\n",
    "metric_list = []    \n",
    "score_list  = []"
   ]
  },
  {
   "cell_type": "markdown",
   "id": "42485b98-8d11-47dc-8f43-3ee04bafa165",
   "metadata": {},
   "source": [
    "## Functions"
   ]
  },
  {
   "cell_type": "code",
   "execution_count": 3,
   "id": "f83f4e06-19dc-47da-9b2e-55bca8516bd0",
   "metadata": {},
   "outputs": [],
   "source": [
    "def reading_dataset_into_df(data):\n",
    "    '''Reads the dataset into pandas dataframe.\n",
    "    '''\n",
    "    \n",
    "    df = pd.read_csv(data, low_memory=False)\n",
    "    \n",
    "    print(df.shape)\n",
    "    # print(df.info(verbose=True, show_counts=True))\n",
    "    \n",
    "    return df"
   ]
  },
  {
   "cell_type": "code",
   "execution_count": 4,
   "id": "2573ce25-9d8d-4618-85e4-ea5ac277c3c4",
   "metadata": {},
   "outputs": [],
   "source": [
    "def check_missing_values_and_drop_col(data):\n",
    "    '''\n",
    "    Checks for the percentage of missing values and drops the column if its missing value is >50%\n",
    "    '''\n",
    "    replace_na = data.replace('na', np.nan)\n",
    "    calc_na = replace_na.isnull().mean() * 100\n",
    "    col_name_to_drop = calc_na[calc_na >= 50].index.tolist()\n",
    "    # print(col_name_to_drop)\n",
    "    \n",
    "    df_to_drop_mv = replace_na.copy()\n",
    "    for cols in col_name_to_drop:\n",
    "        df_to_drop_mv = df_to_drop_mv.drop(cols, axis=1) \n",
    "    # print(df_to_drop_mv.shape)\n",
    "    \n",
    "    return df_to_drop_mv"
   ]
  },
  {
   "cell_type": "code",
   "execution_count": 5,
   "id": "878483da-3c6a-4080-be86-8875b26cd1bf",
   "metadata": {},
   "outputs": [],
   "source": [
    "def fill_with_median_left_skewed_data(data):\n",
    "    '''From the data preprocessing, we encountered that most of the columns are left skewed \n",
    "       which means we need to fillna it with median instead of mean\n",
    "    '''\n",
    "    \n",
    "    skewness = data.skew(axis = 0, skipna = True).values\n",
    "    cols = data.skew(axis = 0, skipna = True).index\n",
    "    \n",
    "    skew_data = pd.DataFrame({'Skewness':skewness}, index = cols)\n",
    "    \n",
    "    skew_data['Distribution'] = np.nan\n",
    "    skew_data['Distribution'] = skew_data.apply(lambda x: 'Left Skewed' if x['Skewness']>0.5 else x['Distribution'], axis=1)\n",
    "    skew_data['Distribution'] = skew_data.apply(lambda x: 'Right Skewed' if x['Skewness']<-0.5 else x['Distribution'], axis=1)\n",
    "    skew_data['Distribution'] = skew_data.apply(lambda x: 'Normal Distribution' if (x['Skewness']<=0.5 and x['Skewness']>=-0.5)  else x['Distribution'], axis=1)\n",
    "    print(skew_data.Distribution.value_counts())\n",
    "    \n",
    "    return skew_data"
   ]
  },
  {
   "cell_type": "code",
   "execution_count": 6,
   "id": "079c732c-7cc0-41d6-8443-e27427bf42a8",
   "metadata": {},
   "outputs": [],
   "source": [
    "def fillna_with_median(data):\n",
    "    '''Replace NAN's with median \n",
    "    '''\n",
    "\n",
    "    data['class'] = data['class'].replace('neg',0).replace('pos',1)\n",
    "    datatype_conversion = data.astype(float)\n",
    "    \n",
    "    fill_missing_values = datatype_conversion.fillna(datatype_conversion.median(), inplace=False)\n",
    "       \n",
    "    check_isna_sum = fill_missing_values.isna().sum()\n",
    "    if check_isna_sum.sum() == 0:\n",
    "        print(\"All missing values have been filled\")\n",
    "    else:\n",
    "        print(f\"Number of missing values remaining: {check_isna_sum.sum()}\")\n",
    "    \n",
    "    return fill_missing_values\n"
   ]
  },
  {
   "cell_type": "code",
   "execution_count": 7,
   "id": "10cc07e2-d790-4579-a663-a76eb6c1dba9",
   "metadata": {},
   "outputs": [],
   "source": [
    "def drop_duplicates(data):\n",
    "    '''Drop duplicated rows from the dataset\n",
    "    '''\n",
    "    \n",
    "    data = data.drop_duplicates()\n",
    "    \n",
    "    return data"
   ]
  },
  {
   "cell_type": "code",
   "execution_count": 8,
   "id": "102e99f3-5cbd-4c34-b69b-5e65856f24e2",
   "metadata": {},
   "outputs": [],
   "source": [
    "def train_test_data_split(data):\n",
    "    '''Splitting training and testing data into separate variable based on the target variable\n",
    "    '''\n",
    "    \n",
    "    X = data.drop('class',axis=1)\n",
    "    y = data['class']\n",
    "    \n",
    "    return X,y"
   ]
  },
  {
   "cell_type": "code",
   "execution_count": 9,
   "id": "6fd2e32c-4ea0-42e9-9c7f-20782833db54",
   "metadata": {},
   "outputs": [],
   "source": [
    "def categorize_columns_without_target_variable(X):\n",
    "    '''\n",
    "    Split the data into three array blocks as continuous, discrete, and object data types.\n",
    "    '''\n",
    "    \n",
    "    float_cols = []\n",
    "    object_cols = []\n",
    "    int_cols = []\n",
    "    \n",
    "    for col in X.columns:\n",
    "        try:\n",
    "            X[col] = pd.to_numeric(X[col])\n",
    "            if (X[col] % 1 > 0).any():\n",
    "                # it is float\n",
    "                float_cols.append(col)\n",
    "            else:\n",
    "                int_cols.append(col)\n",
    "        except:\n",
    "            object_cols.append(col)\n",
    "\n",
    "    for col in float_cols:\n",
    "        fig, ax = plt.subplots()\n",
    "        fig.set_size_inches(15.5, 6.5)\n",
    "        n_bins = 25\n",
    "        max_range = 10000\n",
    "        check_bin = max_range + n_bins\n",
    "        check_bin2 = int(max_range/n_bins)\n",
    "        ax.hist(X[col], bins=n_bins, range=(0, max_range), color='blue')\n",
    "        ax.set_title(f'Distribution of {col}')\n",
    "        ax.set_xticks(np.arange(0, check_bin, check_bin2))\n",
    "        ax.set_ylabel(\"Frequency\")\n",
    "        ax.set_xlabel(col)\n",
    "        # plt.show() Removes the plot\n",
    "        \n",
    "    return None"
   ]
  },
  {
   "cell_type": "code",
   "execution_count": 10,
   "id": "a76dd1b5-f7ea-475b-83ec-d54b2a17e79f",
   "metadata": {},
   "outputs": [],
   "source": [
    "def splitting_train_and_test_sets(data):\n",
    "    '''Splitting the dataset into train and test sets.\n",
    "    '''\n",
    "    \n",
    "    features = data.drop(['class'], axis=1)\n",
    "    target = data['class']\n",
    "\n",
    "    # split dataset into train and dev set 90:10 %\n",
    "    features_train, features_test, target_train, target_test = train_test_split(features, target, test_size=0.2, random_state=42)\n",
    "\n",
    "    return features_train, features_test, target_train, target_test\n"
   ]
  },
  {
   "cell_type": "code",
   "execution_count": 11,
   "id": "73b533e9-5ee7-4849-b93a-7d9d6fc01ece",
   "metadata": {},
   "outputs": [],
   "source": [
    "def setting_threshold_classes(data):\n",
    "    '''Decoding everything to binary numbers\n",
    "    '''\n",
    "    \n",
    "    lb = Binarizer()\n",
    "    lb.fit(target_train.values.reshape(-1, 1))\n",
    "    target_train_bi = lb.transform(target_train.values.reshape(-1, 1))\n",
    "    target_test_bi = lb.transform(target_test.values.reshape(-1, 1))\n",
    "    \n",
    "    return target_train_bi, target_test_bi"
   ]
  },
  {
   "cell_type": "code",
   "execution_count": 12,
   "id": "777800ec-be3b-46e5-b374-9cc91810575a",
   "metadata": {},
   "outputs": [],
   "source": [
    "def pca_transformation(feat_train, feat_test):\n",
    "    '''Normalizes the data and dimension reductionality is done using \n",
    "       principal component analysis.\n",
    "    '''\n",
    "    \n",
    "    # normalize using standard method\n",
    "    scaler = StandardScaler()\n",
    "    scaler.fit(features_train)\n",
    "    normalized_train = scaler.transform(features_train)\n",
    "    normalized_test = scaler.transform(features_test)\n",
    "\n",
    "    # select principle components by PCA\n",
    "    pca = PCA(n_components=60)\n",
    "    pca.fit(normalized_train)\n",
    "    pca_train = pca.transform(normalized_train)\n",
    "    pca_test = pca.transform(normalized_test)\n",
    "    \n",
    "    return pca_train, pca_test\n",
    "    "
   ]
  },
  {
   "cell_type": "code",
   "execution_count": 13,
   "id": "0b5aafda-d703-4b31-9e63-693661bd6dc8",
   "metadata": {},
   "outputs": [],
   "source": [
    "def pca_new_train_test_set(pca_training, pca_testing):\n",
    "    '''Stores the output from pca_transformation into new train and test data\n",
    "    '''\n",
    "    \n",
    "    X_train = pca_train\n",
    "    X_test = pca_test\n",
    "    y_train = target_train_bi.reshape(-1,1)\n",
    "    y_test = target_test_bi.reshape(-1,1)\n",
    "    \n",
    "    return X_train, X_test, y_train, y_test"
   ]
  },
  {
   "cell_type": "code",
   "execution_count": 14,
   "id": "3def9136-395b-4707-9659-aeede76bc834",
   "metadata": {},
   "outputs": [],
   "source": [
    "# def test_predict(model, X_train, X_test, y_train, y_test):\n",
    "#     '''Generates the Naive Bayes model and Creates a classficiation report based on the performance metrics\n",
    "#     '''\n",
    "#     model.fit(X_train, y_train.ravel())\n",
    "#     prediction_test = model.predict(X_test)\n",
    "   \n",
    "#     # create list of metric to be examined\n",
    "#     metric_functions = [accuracy_score, precision_score, recall_score,f1_score,roc_auc_score]\n",
    "#     metric_functions_text = ['accuracy_score', 'precision_score', 'recall_score','f1_score','roc_auc_score']\n",
    "    \n",
    "#     # for loop of each of the 5 metrics\n",
    "#     for metric_function, metric_function_text in zip(metric_functions, metric_functions_text):\n",
    "#         model_text_list.append(model); metric_list.append(metric_function_text); score_list.append(metric_function(y_test, prediction_test))\n",
    "    \n",
    "#     data = {'model':model_text_list, 'metric': metric_list, 'test predict score (20% data)': score_list}\n",
    "#     result = pd.DataFrame(data=data)\n",
    "    \n",
    "#     return result"
   ]
  },
  {
   "cell_type": "code",
   "execution_count": 34,
   "id": "349cd1fe-44aa-45e0-92b5-c4c1cc70c6ad",
   "metadata": {},
   "outputs": [],
   "source": [
    "def test_predict_grid(models, param_grids, X_train, X_test, y_train, y_test):\n",
    "    '''Generates multiple models with grid search and creates a classification report based on the performance metrics\n",
    "       Args:\n",
    "        - models (list): list of tuples containing model name and model object\n",
    "        - param_grids (list): list of dictionaries containing the grid parameters for each model\n",
    "    '''\n",
    "    \n",
    "    for i, (model_name, model_obj) in enumerate(models):\n",
    "        grid_search = GridSearchCV(model_obj, param_grid=param_grids[i], cv=5, n_jobs=-1)    \n",
    "        grid_search.fit(X_train, y_train.ravel())\n",
    "        best_model = grid_search.best_estimator_\n",
    "        prediction_test = best_model.predict(X_test)\n",
    "\n",
    "        metric_functions = [accuracy_score, precision_score, recall_score, f1_score, roc_auc_score]\n",
    "        metric_functions_text = ['accuracy_score', 'precision_score', 'recall_score', 'f1_score', 'roc_auc_score']\n",
    "\n",
    "        for metric_function, metric_function_text in zip(metric_functions, metric_functions_text):\n",
    "            model_list.append(model_name)\n",
    "            metric_list.append(metric_function_text)\n",
    "            score_list.append(metric_function(y_test, prediction_test))\n",
    "\n",
    "        means = grid_search.cv_results_['mean_test_score']\n",
    "        stds = grid_search.cv_results_['std_test_score']\n",
    "        params = grid_search.cv_results_['params']\n",
    "        # for mean, std, param in zip(means, stds, params):\n",
    "        #     print(f\"Model: {model_name}, Accuracy: {mean:.3f} (+/-{std * 2:.03f}), Params: {param}\")\n",
    "\n",
    "    data = {'Model': model_list, 'Metric': metric_list, 'Prediction': score_list}\n",
    "    result_df = pd.DataFrame(data=data)\n",
    "    \n",
    "    return result_df\n"
   ]
  },
  {
   "cell_type": "markdown",
   "id": "fcf8cd9a-0c41-4e80-94f1-4eafb4f69f73",
   "metadata": {},
   "source": [
    "## Main Script"
   ]
  },
  {
   "cell_type": "code",
   "execution_count": 16,
   "id": "0f5f4d08-6dc1-4caf-b31e-cb9c39fbd396",
   "metadata": {},
   "outputs": [
    {
     "name": "stdout",
     "output_type": "stream",
     "text": [
      "(60000, 171)\n"
     ]
    }
   ],
   "source": [
    "#READING THE TRAINING DATA\n",
    "train_df = reading_dataset_into_df(TRAIN_DF)"
   ]
  },
  {
   "cell_type": "code",
   "execution_count": 17,
   "id": "6caf48bd-8d16-4b89-a26d-5f219b4d8e4a",
   "metadata": {},
   "outputs": [
    {
     "name": "stdout",
     "output_type": "stream",
     "text": [
      "(16000, 171)\n"
     ]
    }
   ],
   "source": [
    "#READING THE TESTING DATA\n",
    "test_df = reading_dataset_into_df(TEST_DF)"
   ]
  },
  {
   "cell_type": "code",
   "execution_count": 18,
   "id": "34f824e3-17de-4f72-aad1-fb53747da2c6",
   "metadata": {},
   "outputs": [],
   "source": [
    "#DROPPING COLS WITH NA PERCENTAGE GREATER THAN 50%\n",
    "train_df = check_missing_values_and_drop_col(train_df)\n",
    "test_df = check_missing_values_and_drop_col(test_df)"
   ]
  },
  {
   "cell_type": "code",
   "execution_count": 19,
   "id": "274b78ed-b073-43a4-bb43-af2200e9bfc3",
   "metadata": {
    "collapsed": true,
    "jupyter": {
     "outputs_hidden": true
    },
    "tags": []
   },
   "outputs": [
    {
     "data": {
      "image/png": "[encoded data removed]",
      "text/plain": [
       "<Figure size 1550x650 with 1 Axes>"
      ]
     },
     "metadata": {},
     "output_type": "display_data"
    },
    {
     "data": {
      "image/png": "[encoded data removed]",
      "text/plain": [
       "<Figure size 1550x650 with 1 Axes>"
      ]
     },
     "metadata": {},
     "output_type": "display_data"
    },
    {
     "data": {
      "image/png": "[encoded data removed]",
      "text/plain": [
       "<Figure size 1550x650 with 1 Axes>"
      ]
     },
     "metadata": {},
     "output_type": "display_data"
    },
    {
     "data": {
      "image/png": "[encoded data removed]",
      "text/plain": [
       "<Figure size 1550x650 with 1 Axes>"
      ]
     },
     "metadata": {},
     "output_type": "display_data"
    },
    {
     "data": {
      "image/png": "[encoded data removed]",
      "text/plain": [
       "<Figure size 1550x650 with 1 Axes>"
      ]
     },
     "metadata": {},
     "output_type": "display_data"
    }
   ],
   "source": [
    "variable_type = categorize_columns_without_target_variable(train_df)"
   ]
  },
  {
   "cell_type": "code",
   "execution_count": 20,
   "id": "7d9e1c5b-fc5a-42c0-bcda-ada5944ae5dc",
   "metadata": {
    "tags": []
   },
   "outputs": [
    {
     "name": "stdout",
     "output_type": "stream",
     "text": [
      "All missing values have been filled\n"
     ]
    }
   ],
   "source": [
    "#FILL NAN VALUES WITH MEAN \n",
    "train_df = fillna_with_median(train_df)\n",
    "# test_df = fillna_with_median(test_df)"
   ]
  },
  {
   "cell_type": "code",
   "execution_count": 21,
   "id": "4a4266f5-5e1c-4d3d-9d18-3d909b4a37e5",
   "metadata": {},
   "outputs": [],
   "source": [
    "train_df = drop_duplicates(train_df)\n",
    "# test_df = drop_duplicates(test_df)"
   ]
  },
  {
   "cell_type": "code",
   "execution_count": 22,
   "id": "a2a8c336-3ec2-40e0-84c0-c73cf6aebed5",
   "metadata": {},
   "outputs": [
    {
     "name": "stdout",
     "output_type": "stream",
     "text": [
      "0.0    58999\n",
      "1.0     1000\n",
      "Name: class, dtype: int64\n"
     ]
    }
   ],
   "source": [
    "print(train_df['class'].value_counts())\n",
    "# print(test_df['class'].value_counts())"
   ]
  },
  {
   "cell_type": "code",
   "execution_count": 26,
   "id": "95b727d2-5199-4e99-8154-4b202099f5f9",
   "metadata": {},
   "outputs": [],
   "source": [
    "#SPLITTING THE DATASET INTO TEST AND TRAIN SETS\n",
    "features_train, features_test, target_train, target_test = splitting_train_and_test_sets(train_df)"
   ]
  },
  {
   "cell_type": "code",
   "execution_count": 27,
   "id": "d844c2a7-defe-4094-846e-c9a5bdd1edad",
   "metadata": {},
   "outputs": [],
   "source": [
    "#CONVERTING THE CLASS TO BINARY\n",
    "target_train_bi, target_test_bi = setting_threshold_classes(target_train)"
   ]
  },
  {
   "cell_type": "code",
   "execution_count": 28,
   "id": "1f34c527-90ce-4e26-b68e-4dc3297861ff",
   "metadata": {},
   "outputs": [],
   "source": [
    "#NORMALIZES AND SCALES THE DATA FOR PCA\n",
    "pca_train, pca_test = pca_transformation(features_train, features_test)"
   ]
  },
  {
   "cell_type": "code",
   "execution_count": 29,
   "id": "fda0d884-c363-4343-8bb0-11f4bdb2a4ac",
   "metadata": {},
   "outputs": [],
   "source": [
    "#SPLITTING THE NEW DATASET AFTER DIMENSION REDUCTIONALITY\n",
    "X_train, X_test, y_train, y_test = pca_new_train_test_set(pca_train, pca_test)"
   ]
  },
  {
   "cell_type": "code",
   "execution_count": 36,
   "id": "7a577f44-704b-494e-a062-03548f817423",
   "metadata": {
    "collapsed": true,
    "jupyter": {
     "outputs_hidden": true
    },
    "tags": []
   },
   "outputs": [
    {
     "name": "stderr",
     "output_type": "stream",
     "text": [
      "C:\\Users\\peri_\\anaconda3\\lib\\site-packages\\sklearn\\linear_model\\_logistic.py:814: ConvergenceWarning: lbfgs failed to converge (status=1):\n",
      "STOP: TOTAL NO. of ITERATIONS REACHED LIMIT.\n",
      "\n",
      "Increase the number of iterations (max_iter) or scale the data as shown in:\n",
      "    https://scikit-learn.org/stable/modules/preprocessing.html\n",
      "Please also refer to the documentation for alternative solver options:\n",
      "    https://scikit-learn.org/stable/modules/linear_model.html#logistic-regression\n",
      "  n_iter_i = _check_optimize_result(\n"
     ]
    }
   ],
   "source": [
    "# HYPERPARAMATER TUNING FOR ML MODELS\n",
    "models = [('Random Forest', RandomForestClassifier()),          \n",
    "          ('Logistic Regression', LogisticRegression()), \n",
    "          ('Naive Bayes', GaussianNB())]\n",
    "\n",
    "param_grids = [{'n_estimators': [10, 50, 100],\n",
    "                'max_depth': [None, 5, 10]},\n",
    "               {'penalty': ['l2'],\n",
    "                'C': [0.1, 1.0, 10.0]},\n",
    "               {}]\n",
    "result_df = test_predict_grid(models, param_grids, X_train, X_test, y_train, y_test)\n"
   ]
  },
  {
   "cell_type": "code",
   "execution_count": 39,
   "id": "c67cb9d7-d66a-4fa8-83e9-093973e70d66",
   "metadata": {},
   "outputs": [
    {
     "data": {
      "text/html": [
       "<div>\n",
       "<style scoped>\n",
       "    .dataframe tbody tr th:only-of-type {\n",
       "        vertical-align: middle;\n",
       "    }\n",
       "\n",
       "    .dataframe tbody tr th {\n",
       "        vertical-align: top;\n",
       "    }\n",
       "\n",
       "    .dataframe thead th {\n",
       "        text-align: right;\n",
       "    }\n",
       "</style>\n",
       "<table border=\"1\" class=\"dataframe\">\n",
       "  <thead>\n",
       "    <tr style=\"text-align: right;\">\n",
       "      <th></th>\n",
       "      <th>Model</th>\n",
       "      <th>Metric</th>\n",
       "      <th>Prediction</th>\n",
       "    </tr>\n",
       "  </thead>\n",
       "  <tbody>\n",
       "    <tr>\n",
       "      <th>0</th>\n",
       "      <td>Random Forest</td>\n",
       "      <td>accuracy_score</td>\n",
       "      <td>0.990417</td>\n",
       "    </tr>\n",
       "    <tr>\n",
       "      <th>1</th>\n",
       "      <td>Random Forest</td>\n",
       "      <td>precision_score</td>\n",
       "      <td>0.848276</td>\n",
       "    </tr>\n",
       "    <tr>\n",
       "      <th>2</th>\n",
       "      <td>Random Forest</td>\n",
       "      <td>recall_score</td>\n",
       "      <td>0.569444</td>\n",
       "    </tr>\n",
       "    <tr>\n",
       "      <th>3</th>\n",
       "      <td>Random Forest</td>\n",
       "      <td>f1_score</td>\n",
       "      <td>0.681440</td>\n",
       "    </tr>\n",
       "    <tr>\n",
       "      <th>4</th>\n",
       "      <td>Random Forest</td>\n",
       "      <td>roc_auc_score</td>\n",
       "      <td>0.783789</td>\n",
       "    </tr>\n",
       "    <tr>\n",
       "      <th>5</th>\n",
       "      <td>Logistic Regression</td>\n",
       "      <td>accuracy_score</td>\n",
       "      <td>0.988500</td>\n",
       "    </tr>\n",
       "    <tr>\n",
       "      <th>6</th>\n",
       "      <td>Logistic Regression</td>\n",
       "      <td>precision_score</td>\n",
       "      <td>0.767123</td>\n",
       "    </tr>\n",
       "    <tr>\n",
       "      <th>7</th>\n",
       "      <td>Logistic Regression</td>\n",
       "      <td>recall_score</td>\n",
       "      <td>0.518519</td>\n",
       "    </tr>\n",
       "    <tr>\n",
       "      <th>8</th>\n",
       "      <td>Logistic Regression</td>\n",
       "      <td>f1_score</td>\n",
       "      <td>0.618785</td>\n",
       "    </tr>\n",
       "    <tr>\n",
       "      <th>9</th>\n",
       "      <td>Logistic Regression</td>\n",
       "      <td>roc_auc_score</td>\n",
       "      <td>0.757817</td>\n",
       "    </tr>\n",
       "    <tr>\n",
       "      <th>10</th>\n",
       "      <td>Naive Bayes</td>\n",
       "      <td>accuracy_score</td>\n",
       "      <td>0.967833</td>\n",
       "    </tr>\n",
       "    <tr>\n",
       "      <th>11</th>\n",
       "      <td>Naive Bayes</td>\n",
       "      <td>precision_score</td>\n",
       "      <td>0.334630</td>\n",
       "    </tr>\n",
       "    <tr>\n",
       "      <th>12</th>\n",
       "      <td>Naive Bayes</td>\n",
       "      <td>recall_score</td>\n",
       "      <td>0.796296</td>\n",
       "    </tr>\n",
       "    <tr>\n",
       "      <th>13</th>\n",
       "      <td>Naive Bayes</td>\n",
       "      <td>f1_score</td>\n",
       "      <td>0.471233</td>\n",
       "    </tr>\n",
       "    <tr>\n",
       "      <th>14</th>\n",
       "      <td>Naive Bayes</td>\n",
       "      <td>roc_auc_score</td>\n",
       "      <td>0.883637</td>\n",
       "    </tr>\n",
       "    <tr>\n",
       "      <th>15</th>\n",
       "      <td>Random Forest</td>\n",
       "      <td>accuracy_score</td>\n",
       "      <td>0.990667</td>\n",
       "    </tr>\n",
       "    <tr>\n",
       "      <th>16</th>\n",
       "      <td>Random Forest</td>\n",
       "      <td>precision_score</td>\n",
       "      <td>0.833333</td>\n",
       "    </tr>\n",
       "    <tr>\n",
       "      <th>17</th>\n",
       "      <td>Random Forest</td>\n",
       "      <td>recall_score</td>\n",
       "      <td>0.601852</td>\n",
       "    </tr>\n",
       "    <tr>\n",
       "      <th>18</th>\n",
       "      <td>Random Forest</td>\n",
       "      <td>f1_score</td>\n",
       "      <td>0.698925</td>\n",
       "    </tr>\n",
       "    <tr>\n",
       "      <th>19</th>\n",
       "      <td>Random Forest</td>\n",
       "      <td>roc_auc_score</td>\n",
       "      <td>0.799823</td>\n",
       "    </tr>\n",
       "    <tr>\n",
       "      <th>20</th>\n",
       "      <td>Logistic Regression</td>\n",
       "      <td>accuracy_score</td>\n",
       "      <td>0.988500</td>\n",
       "    </tr>\n",
       "    <tr>\n",
       "      <th>21</th>\n",
       "      <td>Logistic Regression</td>\n",
       "      <td>precision_score</td>\n",
       "      <td>0.767123</td>\n",
       "    </tr>\n",
       "    <tr>\n",
       "      <th>22</th>\n",
       "      <td>Logistic Regression</td>\n",
       "      <td>recall_score</td>\n",
       "      <td>0.518519</td>\n",
       "    </tr>\n",
       "    <tr>\n",
       "      <th>23</th>\n",
       "      <td>Logistic Regression</td>\n",
       "      <td>f1_score</td>\n",
       "      <td>0.618785</td>\n",
       "    </tr>\n",
       "    <tr>\n",
       "      <th>24</th>\n",
       "      <td>Logistic Regression</td>\n",
       "      <td>roc_auc_score</td>\n",
       "      <td>0.757817</td>\n",
       "    </tr>\n",
       "    <tr>\n",
       "      <th>25</th>\n",
       "      <td>Naive Bayes</td>\n",
       "      <td>accuracy_score</td>\n",
       "      <td>0.967833</td>\n",
       "    </tr>\n",
       "    <tr>\n",
       "      <th>26</th>\n",
       "      <td>Naive Bayes</td>\n",
       "      <td>precision_score</td>\n",
       "      <td>0.334630</td>\n",
       "    </tr>\n",
       "    <tr>\n",
       "      <th>27</th>\n",
       "      <td>Naive Bayes</td>\n",
       "      <td>recall_score</td>\n",
       "      <td>0.796296</td>\n",
       "    </tr>\n",
       "    <tr>\n",
       "      <th>28</th>\n",
       "      <td>Naive Bayes</td>\n",
       "      <td>f1_score</td>\n",
       "      <td>0.471233</td>\n",
       "    </tr>\n",
       "    <tr>\n",
       "      <th>29</th>\n",
       "      <td>Naive Bayes</td>\n",
       "      <td>roc_auc_score</td>\n",
       "      <td>0.883637</td>\n",
       "    </tr>\n",
       "  </tbody>\n",
       "</table>\n",
       "</div>"
      ],
      "text/plain": [
       "                  Model           Metric  Prediction\n",
       "0         Random Forest   accuracy_score    0.990417\n",
       "1         Random Forest  precision_score    0.848276\n",
       "2         Random Forest     recall_score    0.569444\n",
       "3         Random Forest         f1_score    0.681440\n",
       "4         Random Forest    roc_auc_score    0.783789\n",
       "5   Logistic Regression   accuracy_score    0.988500\n",
       "6   Logistic Regression  precision_score    0.767123\n",
       "7   Logistic Regression     recall_score    0.518519\n",
       "8   Logistic Regression         f1_score    0.618785\n",
       "9   Logistic Regression    roc_auc_score    0.757817\n",
       "10          Naive Bayes   accuracy_score    0.967833\n",
       "11          Naive Bayes  precision_score    0.334630\n",
       "12          Naive Bayes     recall_score    0.796296\n",
       "13          Naive Bayes         f1_score    0.471233\n",
       "14          Naive Bayes    roc_auc_score    0.883637\n",
       "15        Random Forest   accuracy_score    0.990667\n",
       "16        Random Forest  precision_score    0.833333\n",
       "17        Random Forest     recall_score    0.601852\n",
       "18        Random Forest         f1_score    0.698925\n",
       "19        Random Forest    roc_auc_score    0.799823\n",
       "20  Logistic Regression   accuracy_score    0.988500\n",
       "21  Logistic Regression  precision_score    0.767123\n",
       "22  Logistic Regression     recall_score    0.518519\n",
       "23  Logistic Regression         f1_score    0.618785\n",
       "24  Logistic Regression    roc_auc_score    0.757817\n",
       "25          Naive Bayes   accuracy_score    0.967833\n",
       "26          Naive Bayes  precision_score    0.334630\n",
       "27          Naive Bayes     recall_score    0.796296\n",
       "28          Naive Bayes         f1_score    0.471233\n",
       "29          Naive Bayes    roc_auc_score    0.883637"
      ]
     },
     "execution_count": 39,
     "metadata": {},
     "output_type": "execute_result"
    }
   ],
   "source": [
    "result_df"
   ]
  },
  {
   "cell_type": "code",
   "execution_count": 54,
   "id": "21784744-46d3-4c03-89d4-d93e29a8c56a",
   "metadata": {},
   "outputs": [
    {
     "data": {
      "text/plain": [
       "'Random Forest'"
      ]
     },
     "execution_count": 54,
     "metadata": {},
     "output_type": "execute_result"
    }
   ],
   "source": [
    "max_index = result_df.loc[result_df['Prediction'] == result_df['Prediction'].max()]\n",
    "best_model = max_index.Model.tolist()[0]"
   ]
  },
  {
   "cell_type": "markdown",
   "id": "08439b21-8a11-4c67-b732-794c0c53f2e0",
   "metadata": {},
   "source": [
    "To be continued ...."
   ]
  },
  {
   "cell_type": "code",
   "execution_count": null,
   "id": "87e1c358-51ee-464e-b2e6-de57773bc4f5",
   "metadata": {},
   "outputs": [],
   "source": []
  }
 ],
 "metadata": {
  "kernelspec": {
   "display_name": "Python 3",
   "language": "python",
   "name": "python3"
  },
  "language_info": {
   "codemirror_mode": {
    "name": "ipython",
    "version": 3
   },
   "file_extension": ".py",
   "mimetype": "text/x-python",
   "name": "python",
   "nbconvert_exporter": "python",
   "pygments_lexer": "ipython3",
   "version": "3.9.13"
  }
 },
 "nbformat": 4,
 "nbformat_minor": 5
}
